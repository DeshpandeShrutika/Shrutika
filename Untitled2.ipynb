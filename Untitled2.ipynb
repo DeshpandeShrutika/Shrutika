{
 "cells": [
  {
   "cell_type": "code",
   "execution_count": 1,
   "id": "a479af48-5ddc-4d91-b02c-8849d1d42200",
   "metadata": {},
   "outputs": [
    {
     "name": "stdout",
     "output_type": "stream",
     "text": [
      "Hello\\*world\n"
     ]
    }
   ],
   "source": [
    "print('Hello\\*world')"
   ]
  },
  {
   "cell_type": "code",
   "execution_count": 2,
   "id": "624968ec-2629-41df-855e-b81569807edc",
   "metadata": {},
   "outputs": [],
   "source": [
    "# doc string\n",
    "'''\n",
    "dsgij\n",
    "wrbhcu\n",
    "wfwr\n",
    "''';"
   ]
  },
  {
   "cell_type": "code",
   "execution_count": 3,
   "id": "e763091f-8f83-4dd4-b3bb-8fa642b121f1",
   "metadata": {},
   "outputs": [
    {
     "name": "stdout",
     "output_type": "stream",
     "text": [
      "this is 1st\n",
      "this is 2nd\n",
      "this is 3rd\n",
      "\n"
     ]
    }
   ],
   "source": [
    "print('''this is 1st\n",
    "this is 2nd\n",
    "this is 3rd\n",
    "''')"
   ]
  },
  {
   "cell_type": "code",
   "execution_count": 4,
   "id": "e81da644-f59d-4f2a-8e6f-374145447ea0",
   "metadata": {},
   "outputs": [],
   "source": [
    "#ASCII"
   ]
  },
  {
   "cell_type": "code",
   "execution_count": 5,
   "id": "b68d1f68-2da3-4504-9eba-35083de06244",
   "metadata": {},
   "outputs": [
    {
     "data": {
      "text/plain": [
       "65"
      ]
     },
     "execution_count": 5,
     "metadata": {},
     "output_type": "execute_result"
    }
   ],
   "source": [
    "ord('A')"
   ]
  },
  {
   "cell_type": "code",
   "execution_count": 6,
   "id": "f6d3a804-7197-4d8c-b9de-66bec1fcd0e6",
   "metadata": {},
   "outputs": [
    {
     "data": {
      "text/plain": [
       "97"
      ]
     },
     "execution_count": 6,
     "metadata": {},
     "output_type": "execute_result"
    }
   ],
   "source": [
    "ord('a')"
   ]
  },
  {
   "cell_type": "code",
   "execution_count": 7,
   "id": "5e086550-b374-4510-a4be-ea9352094f4b",
   "metadata": {},
   "outputs": [
    {
     "data": {
      "text/plain": [
       "'z'"
      ]
     },
     "execution_count": 7,
     "metadata": {},
     "output_type": "execute_result"
    }
   ],
   "source": [
    "chr(122)"
   ]
  },
  {
   "cell_type": "code",
   "execution_count": 8,
   "id": "55e70bb6-dd62-4c23-8061-e64fcc51e0a0",
   "metadata": {},
   "outputs": [],
   "source": [
    "# print function\n",
    "\n",
    "name = 'Riya'\n",
    "Marks = 71.66"
   ]
  },
  {
   "cell_type": "code",
   "execution_count": 14,
   "id": "74d6a879-caf9-4e5b-a488-0f81453b42f6",
   "metadata": {},
   "outputs": [
    {
     "name": "stdout",
     "output_type": "stream",
     "text": [
      "my name is Riya and Mark are 71\n"
     ]
    }
   ],
   "source": [
    "# my name is Riya and Marks are 71\n",
    "\n",
    "print('my name is', name, 'and Mark are', Marks)"
   ]
  },
  {
   "cell_type": "code",
   "execution_count": 15,
   "id": "ac45a3b3-5470-4e2c-9eab-a93a7dc4afda",
   "metadata": {},
   "outputs": [
    {
     "name": "stdout",
     "output_type": "stream",
     "text": [
      "my name is Riya and Marks are 71.00\n"
     ]
    }
   ],
   "source": [
    "# formatted\n",
    "\n",
    "print('my name is %s and Marks are %.2f' %(name, Marks))"
   ]
  },
  {
   "cell_type": "code",
   "execution_count": 21,
   "id": "26d6dbb8-cde7-42bb-9501-e997768d8510",
   "metadata": {},
   "outputs": [
    {
     "name": "stdout",
     "output_type": "stream",
     "text": [
      "Riya * 71\n"
     ]
    }
   ],
   "source": [
    "print (name, Marks, sep= ' * ')\n"
   ]
  },
  {
   "cell_type": "code",
   "execution_count": 22,
   "id": "6f1ac623-4f43-45f4-b447-b2eecf33720b",
   "metadata": {},
   "outputs": [
    {
     "name": "stdout",
     "output_type": "stream",
     "text": [
      "Riya 71*"
     ]
    }
   ],
   "source": [
    "print (name, Marks, end ='*')"
   ]
  },
  {
   "cell_type": "markdown",
   "id": "fa5e4866-9501-4525-8e49-95c3797bce11",
   "metadata": {},
   "source": [
    "### Arathmatic Operators\n"
   ]
  },
  {
   "cell_type": "code",
   "execution_count": 24,
   "id": "f06e8e1f-f0e0-4e8c-b2aa-3dbd2688a680",
   "metadata": {},
   "outputs": [],
   "source": [
    "num1 = 54.66\n",
    "num2 = 2"
   ]
  },
  {
   "cell_type": "code",
   "execution_count": 25,
   "id": "73c485c5-c574-44fa-973a-b63989f74443",
   "metadata": {},
   "outputs": [
    {
     "data": {
      "text/plain": [
       "56.66"
      ]
     },
     "execution_count": 25,
     "metadata": {},
     "output_type": "execute_result"
    }
   ],
   "source": [
    "num1 + num2"
   ]
  },
  {
   "cell_type": "code",
   "execution_count": 26,
   "id": "dfb3ac56-3027-4bcf-9b26-a094141bb3d3",
   "metadata": {},
   "outputs": [
    {
     "data": {
      "text/plain": [
       "52.66"
      ]
     },
     "execution_count": 26,
     "metadata": {},
     "output_type": "execute_result"
    }
   ],
   "source": [
    "num1 - num2"
   ]
  },
  {
   "cell_type": "code",
   "execution_count": 27,
   "id": "73cadee0-67f0-4424-b23d-14fff003969b",
   "metadata": {},
   "outputs": [
    {
     "data": {
      "text/plain": [
       "109.32"
      ]
     },
     "execution_count": 27,
     "metadata": {},
     "output_type": "execute_result"
    }
   ],
   "source": [
    "num1 * num2"
   ]
  },
  {
   "cell_type": "code",
   "execution_count": 28,
   "id": "aa69ca1a-2dfb-4c09-9ce4-bf8a5d1fc376",
   "metadata": {},
   "outputs": [
    {
     "data": {
      "text/plain": [
       "2987.7155999999995"
      ]
     },
     "execution_count": 28,
     "metadata": {},
     "output_type": "execute_result"
    }
   ],
   "source": [
    "num1 ** num2"
   ]
  },
  {
   "cell_type": "code",
   "execution_count": 29,
   "id": "9ae60c02-cbed-4579-a64a-41e694e8a394",
   "metadata": {},
   "outputs": [
    {
     "data": {
      "text/plain": [
       "27.0"
      ]
     },
     "execution_count": 29,
     "metadata": {},
     "output_type": "execute_result"
    }
   ],
   "source": [
    "num1 // num2"
   ]
  },
  {
   "cell_type": "code",
   "execution_count": 30,
   "id": "848fdba8-3a8b-4a2e-a992-3f844ffb3b64",
   "metadata": {},
   "outputs": [
    {
     "data": {
      "text/plain": [
       "0.6599999999999966"
      ]
     },
     "execution_count": 30,
     "metadata": {},
     "output_type": "execute_result"
    }
   ],
   "source": [
    "num1 % num2"
   ]
  },
  {
   "cell_type": "code",
   "execution_count": 31,
   "id": "f38faf03-a9bc-43ce-b210-1f7bb25cb11c",
   "metadata": {},
   "outputs": [
    {
     "data": {
      "text/plain": [
       "True"
      ]
     },
     "execution_count": 31,
     "metadata": {},
     "output_type": "execute_result"
    }
   ],
   "source": [
    "num1 > num2"
   ]
  },
  {
   "cell_type": "code",
   "execution_count": 32,
   "id": "44c817ba-2473-4d89-9307-cfc69b774d91",
   "metadata": {},
   "outputs": [
    {
     "data": {
      "text/plain": [
       "False"
      ]
     },
     "execution_count": 32,
     "metadata": {},
     "output_type": "execute_result"
    }
   ],
   "source": [
    "num1 <= num2"
   ]
  },
  {
   "cell_type": "code",
   "execution_count": 33,
   "id": "166f8c79-d0d7-4686-9fa4-9cde8f12b658",
   "metadata": {},
   "outputs": [
    {
     "data": {
      "text/plain": [
       "False"
      ]
     },
     "execution_count": 33,
     "metadata": {},
     "output_type": "execute_result"
    }
   ],
   "source": [
    "num1 == num2"
   ]
  },
  {
   "cell_type": "code",
   "execution_count": 34,
   "id": "f35d6778-bf7d-49e4-888b-a83ef9180218",
   "metadata": {},
   "outputs": [
    {
     "data": {
      "text/plain": [
       "True"
      ]
     },
     "execution_count": 34,
     "metadata": {},
     "output_type": "execute_result"
    }
   ],
   "source": [
    "num1 != num2"
   ]
  },
  {
   "cell_type": "code",
   "execution_count": 35,
   "id": "dfe52d33-27b7-411e-8380-c85a1f09ef8a",
   "metadata": {},
   "outputs": [],
   "source": [
    "num1 = 45"
   ]
  },
  {
   "cell_type": "code",
   "execution_count": 36,
   "id": "46e2a44a-cb7c-48b5-b10d-e1827eb9f104",
   "metadata": {},
   "outputs": [],
   "source": [
    "num1 += 50   #num1 = num1 + 50"
   ]
  },
  {
   "cell_type": "code",
   "execution_count": 37,
   "id": "14a0bd27-240e-4d01-84af-2dbb1a93097f",
   "metadata": {},
   "outputs": [
    {
     "data": {
      "text/plain": [
       "95"
      ]
     },
     "execution_count": 37,
     "metadata": {},
     "output_type": "execute_result"
    }
   ],
   "source": [
    "num1"
   ]
  },
  {
   "cell_type": "code",
   "execution_count": 40,
   "id": "b7a61a00-c1f5-4934-a6b0-b4331b6cb427",
   "metadata": {},
   "outputs": [],
   "source": [
    "num1 -= 45"
   ]
  },
  {
   "cell_type": "code",
   "execution_count": 39,
   "id": "c3abb61f-f46e-4cb7-87f8-5469fbc031f9",
   "metadata": {},
   "outputs": [
    {
     "data": {
      "text/plain": [
       "45"
      ]
     },
     "execution_count": 39,
     "metadata": {},
     "output_type": "execute_result"
    }
   ],
   "source": [
    "num1"
   ]
  },
  {
   "cell_type": "code",
   "execution_count": 41,
   "id": "b4f6fb18-29a0-46fa-9b33-a478372169a3",
   "metadata": {},
   "outputs": [],
   "source": [
    "####logical operator"
   ]
  },
  {
   "cell_type": "code",
   "execution_count": 42,
   "id": "b494b9d9-4a3e-489a-9d28-84113141f03a",
   "metadata": {},
   "outputs": [
    {
     "data": {
      "text/plain": [
       "False"
      ]
     },
     "execution_count": 42,
     "metadata": {},
     "output_type": "execute_result"
    }
   ],
   "source": [
    "num1 < num2 and num1 > 0"
   ]
  },
  {
   "cell_type": "code",
   "execution_count": 43,
   "id": "20c5cc5a-780a-4e48-aab7-94384c034920",
   "metadata": {},
   "outputs": [
    {
     "data": {
      "text/plain": [
       "True"
      ]
     },
     "execution_count": 43,
     "metadata": {},
     "output_type": "execute_result"
    }
   ],
   "source": [
    "num1 < num2 or num1 > 0"
   ]
  },
  {
   "cell_type": "code",
   "execution_count": 45,
   "id": "f39994fc-57df-4325-9846-028dee543ea6",
   "metadata": {},
   "outputs": [],
   "source": [
    "# membership selection"
   ]
  },
  {
   "cell_type": "code",
   "execution_count": 46,
   "id": "f550ec50-93fb-440d-8e35-58c181c0a0ee",
   "metadata": {},
   "outputs": [
    {
     "data": {
      "text/plain": [
       "'Riya'"
      ]
     },
     "execution_count": 46,
     "metadata": {},
     "output_type": "execute_result"
    }
   ],
   "source": [
    "name"
   ]
  },
  {
   "cell_type": "code",
   "execution_count": 47,
   "id": "571df457-a040-4ee6-beeb-f673dba1e015",
   "metadata": {},
   "outputs": [
    {
     "data": {
      "text/plain": [
       "True"
      ]
     },
     "execution_count": 47,
     "metadata": {},
     "output_type": "execute_result"
    }
   ],
   "source": [
    "'i' in name"
   ]
  },
  {
   "cell_type": "code",
   "execution_count": 48,
   "id": "3cca7026-d8ce-4e96-b5e0-03d056a78c8b",
   "metadata": {},
   "outputs": [
    {
     "data": {
      "text/plain": [
       "False"
      ]
     },
     "execution_count": 48,
     "metadata": {},
     "output_type": "execute_result"
    }
   ],
   "source": [
    "'i' not in name\n"
   ]
  },
  {
   "cell_type": "code",
   "execution_count": 49,
   "id": "3449233d-a8f8-46cd-9c3e-e841e1a940f8",
   "metadata": {},
   "outputs": [],
   "source": [
    "# type casting"
   ]
  },
  {
   "cell_type": "code",
   "execution_count": 50,
   "id": "98d5656c-cb3f-46b0-aee4-bc4caa196441",
   "metadata": {},
   "outputs": [],
   "source": [
    "num1 = 34\n",
    "num2 = 33.12"
   ]
  },
  {
   "cell_type": "code",
   "execution_count": 51,
   "id": "411e2f34-457e-4c0c-bcb2-ca5de919dcbb",
   "metadata": {},
   "outputs": [
    {
     "data": {
      "text/plain": [
       "67.12"
      ]
     },
     "execution_count": 51,
     "metadata": {},
     "output_type": "execute_result"
    }
   ],
   "source": [
    "num1 + num2"
   ]
  },
  {
   "cell_type": "code",
   "execution_count": 52,
   "id": "d415d4dd-f129-4e60-af9f-3db271f15692",
   "metadata": {},
   "outputs": [
    {
     "data": {
      "text/plain": [
       "67"
      ]
     },
     "execution_count": 52,
     "metadata": {},
     "output_type": "execute_result"
    }
   ],
   "source": [
    "num1 + int(num2)"
   ]
  },
  {
   "cell_type": "code",
   "execution_count": 53,
   "id": "b4942eae-d881-4360-bd0f-80a9a1810665",
   "metadata": {},
   "outputs": [],
   "source": [
    "num3 = '1234'"
   ]
  },
  {
   "cell_type": "code",
   "execution_count": 54,
   "id": "584577ba-0df4-4c7d-8143-c29da8114bb1",
   "metadata": {},
   "outputs": [
    {
     "data": {
      "text/plain": [
       "'123412341234'"
      ]
     },
     "execution_count": 54,
     "metadata": {},
     "output_type": "execute_result"
    }
   ],
   "source": [
    "num3 * 3"
   ]
  },
  {
   "cell_type": "code",
   "execution_count": 55,
   "id": "701e5f6a-45e5-48e8-9c75-b384f6868a4b",
   "metadata": {},
   "outputs": [
    {
     "data": {
      "text/plain": [
       "3702"
      ]
     },
     "execution_count": 55,
     "metadata": {},
     "output_type": "execute_result"
    }
   ],
   "source": [
    "int(num3) * 3"
   ]
  },
  {
   "cell_type": "code",
   "execution_count": 56,
   "id": "5e680cfc-4e34-4dc6-91fd-019896b7354c",
   "metadata": {},
   "outputs": [],
   "source": [
    "name = 'Aman'\n",
    "num1 = 67"
   ]
  },
  {
   "cell_type": "code",
   "execution_count": 57,
   "id": "57fa52cd-d6a0-4264-bcb1-043131c65fd1",
   "metadata": {},
   "outputs": [],
   "source": [
    "# my password is Aman67"
   ]
  },
  {
   "cell_type": "code",
   "execution_count": 60,
   "id": "8de30049-73a8-48d9-b7f7-99a3524d9d9a",
   "metadata": {},
   "outputs": [
    {
     "data": {
      "text/plain": [
       "'Aman67'"
      ]
     },
     "execution_count": 60,
     "metadata": {},
     "output_type": "execute_result"
    }
   ],
   "source": [
    "name + str(num1)"
   ]
  },
  {
   "cell_type": "code",
   "execution_count": 61,
   "id": "6a66a844-8958-439e-8861-0e8b2556aecf",
   "metadata": {},
   "outputs": [],
   "source": [
    "# user input"
   ]
  },
  {
   "cell_type": "code",
   "execution_count": 64,
   "id": "e1fe7f1a-7bc1-4408-8fab-4a7ea2aa6b98",
   "metadata": {},
   "outputs": [
    {
     "name": "stdout",
     "output_type": "stream",
     "text": [
      "105\n"
     ]
    }
   ],
   "source": [
    "num1 = 45\n",
    "num2 = 60\n",
    "result = num1 + num2\n",
    "print(result)\n"
   ]
  },
  {
   "cell_type": "code",
   "execution_count": 65,
   "id": "fe197ffc-025a-494f-9238-b9fff0c039ae",
   "metadata": {},
   "outputs": [
    {
     "name": "stdin",
     "output_type": "stream",
     "text": [
      "Enter the string ajit\n",
      "Enter the no of repeatition 3\n"
     ]
    },
    {
     "name": "stdout",
     "output_type": "stream",
     "text": [
      "ajitajitajit\n"
     ]
    }
   ],
   "source": [
    "# write a program to repeat the string \n",
    "\n",
    "in1 = input('Enter the string')\n",
    "in2 = int(input('Enter the no of repeatition'))\n",
    "\n",
    "print(in1 * in2)"
   ]
  },
  {
   "cell_type": "code",
   "execution_count": 71,
   "id": "2e66c4f0-5aea-469c-b14a-d381d50bb2c2",
   "metadata": {},
   "outputs": [
    {
     "name": "stdin",
     "output_type": "stream",
     "text": [
      "Enter the no of seconds  864864\n"
     ]
    },
    {
     "name": "stdout",
     "output_type": "stream",
     "text": [
      "240\n",
      "14\n",
      "24\n",
      "Conversion is  240 : 14 : 24\n"
     ]
    }
   ],
   "source": [
    "'''\n",
    "take second as input\n",
    "convert to hour:min:sec format\n",
    "ex.... 3665 sec => 1:01:05\n",
    "'''\n",
    "\n",
    "sec= int(input('Enter the no of seconds '))\n",
    "\n",
    "hours = sec //3600\n",
    "print(hours)\n",
    "rem_sec = sec % 3600\n",
    "minute=rem_sec //60\n",
    "print(minute)\n",
    "\n",
    "seconds = rem_sec % 60\n",
    "print(seconds)\n",
    "\n",
    "print('Conversion is ', hours,':',minute,':',seconds)\n",
    "\n"
   ]
  },
  {
   "cell_type": "code",
   "execution_count": null,
   "id": "feb71a34-826c-4909-a455-80ff46f95948",
   "metadata": {},
   "outputs": [],
   "source": []
  }
 ],
 "metadata": {
  "kernelspec": {
   "display_name": "Python 3 (ipykernel)",
   "language": "python",
   "name": "python3"
  },
  "language_info": {
   "codemirror_mode": {
    "name": "ipython",
    "version": 3
   },
   "file_extension": ".py",
   "mimetype": "text/x-python",
   "name": "python",
   "nbconvert_exporter": "python",
   "pygments_lexer": "ipython3",
   "version": "3.11.7"
  }
 },
 "nbformat": 4,
 "nbformat_minor": 5
}
