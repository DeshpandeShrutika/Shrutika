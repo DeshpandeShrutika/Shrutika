{
 "cells": [
  {
   "cell_type": "code",
   "execution_count": 4,
   "id": "2ccf5b12-3b9a-47d0-bb23-c003b1a93af5",
   "metadata": {},
   "outputs": [],
   "source": [
    "def show() :         # Function Defination\n",
    "    print('Hello')\n",
    "    print('Ok')\n",
    "    print('GoodBye!!')"
   ]
  },
  {
   "cell_type": "code",
   "execution_count": 5,
   "id": "d7418aa2-2957-404f-931c-c854e88731e7",
   "metadata": {},
   "outputs": [
    {
     "name": "stdout",
     "output_type": "stream",
     "text": [
      "Hello\n",
      "Ok\n",
      "GoodBye!!\n"
     ]
    }
   ],
   "source": [
    "show()"
   ]
  },
  {
   "cell_type": "code",
   "execution_count": 6,
   "id": "1899319d-b18c-485f-be86-db67852b74b9",
   "metadata": {},
   "outputs": [
    {
     "name": "stdout",
     "output_type": "stream",
     "text": [
      "Hello\n",
      "Ok\n",
      "GoodBye!!\n",
      "Hello\n",
      "Ok\n",
      "GoodBye!!\n",
      "Hello\n",
      "Ok\n",
      "GoodBye!!\n"
     ]
    }
   ],
   "source": [
    "show()\n",
    "show()\n",
    "show()"
   ]
  },
  {
   "cell_type": "code",
   "execution_count": 7,
   "id": "3359af8e-1112-42b2-ba9e-28b899260949",
   "metadata": {},
   "outputs": [],
   "source": [
    "# parametarized Function\n",
    "\n",
    "def square(n) :\n",
    "    result = n * n\n",
    "    print('square is',result)"
   ]
  },
  {
   "cell_type": "code",
   "execution_count": 8,
   "id": "a1172d9a-d719-44a4-bfb7-b729d1f44354",
   "metadata": {},
   "outputs": [
    {
     "name": "stdout",
     "output_type": "stream",
     "text": [
      "square is 100\n"
     ]
    }
   ],
   "source": [
    "square(10)"
   ]
  },
  {
   "cell_type": "code",
   "execution_count": 9,
   "id": "f22bf605-dd18-449e-b6d1-c8fa186551e5",
   "metadata": {},
   "outputs": [
    {
     "name": "stdin",
     "output_type": "stream",
     "text": [
      "Enter the number 5\n"
     ]
    },
    {
     "name": "stdout",
     "output_type": "stream",
     "text": [
      "square is 25\n"
     ]
    }
   ],
   "source": [
    "num = int(input('Enter the number'))\n",
    "square(num)"
   ]
  },
  {
   "cell_type": "code",
   "execution_count": 11,
   "id": "f53e68f9-fe91-4204-b8f4-575695bdf21e",
   "metadata": {},
   "outputs": [],
   "source": [
    "# multi parametarized function\n",
    "\n",
    "def largest(a,b):\n",
    "    if a > b:\n",
    "        print(a,'is greater')\n",
    "    elif a == b:\n",
    "        print('Equal')\n",
    "    else:\n",
    "        print(b,'is greater')\n"
   ]
  },
  {
   "cell_type": "code",
   "execution_count": 12,
   "id": "edd6ee97-613c-401e-9775-c3e384e01a05",
   "metadata": {},
   "outputs": [
    {
     "name": "stdout",
     "output_type": "stream",
     "text": [
      "78 is greater\n"
     ]
    }
   ],
   "source": [
    "largest(45, 78)"
   ]
  },
  {
   "cell_type": "code",
   "execution_count": 17,
   "id": "6a3e4a82-b75e-408a-a4b7-5a56d329955a",
   "metadata": {},
   "outputs": [],
   "source": [
    "# write a function which will print a string n number of times\n",
    "\n",
    "def dis(name, n):\n",
    "    for i in range(n):\n",
    "        print(name)"
   ]
  },
  {
   "cell_type": "code",
   "execution_count": 18,
   "id": "6507e13f-f6fe-4113-af0a-43af40086d2e",
   "metadata": {},
   "outputs": [
    {
     "name": "stdout",
     "output_type": "stream",
     "text": [
      "pune\n",
      "pune\n",
      "pune\n",
      "pune\n",
      "pune\n",
      "pune\n",
      "pune\n"
     ]
    }
   ],
   "source": [
    "dis('pune', 7)"
   ]
  },
  {
   "cell_type": "code",
   "execution_count": 28,
   "id": "a6c8d460-a3c3-4e7c-8c98-9394b1dc9491",
   "metadata": {},
   "outputs": [],
   "source": [
    "# function for factorial\n",
    "\n",
    "\n",
    "def facto(n):\n",
    "    fact = 1\n",
    "    for i in range(1, n+1):\n",
    "        fact = fact * i\n",
    "    print('factorial:' , fact)"
   ]
  },
  {
   "cell_type": "code",
   "execution_count": 29,
   "id": "04db7faf-53d3-4a86-9052-25c4e7a2f389",
   "metadata": {},
   "outputs": [
    {
     "name": "stdout",
     "output_type": "stream",
     "text": [
      "factorial: 120\n"
     ]
    }
   ],
   "source": [
    "facto(5)"
   ]
  },
  {
   "cell_type": "code",
   "execution_count": 30,
   "id": "2971fef0-af61-4a36-b41e-b079cf5f6417",
   "metadata": {},
   "outputs": [],
   "source": [
    "# Function returning value\n",
    "\n",
    "def square(n):\n",
    "    result = n * n\n",
    "    return result"
   ]
  },
  {
   "cell_type": "code",
   "execution_count": 31,
   "id": "614108c8-8a39-461c-9b4e-28d942764a35",
   "metadata": {},
   "outputs": [
    {
     "data": {
      "text/plain": [
       "25"
      ]
     },
     "execution_count": 31,
     "metadata": {},
     "output_type": "execute_result"
    }
   ],
   "source": [
    "square(5)"
   ]
  },
  {
   "cell_type": "markdown",
   "id": "9407319c-8ed0-416b-814b-2ceadfb6f717",
   "metadata": {},
   "source": [
    "# difference between return and print"
   ]
  },
  {
   "cell_type": "code",
   "execution_count": 33,
   "id": "f046b218-9016-4ec3-8c35-f74201e57eed",
   "metadata": {},
   "outputs": [
    {
     "name": "stdout",
     "output_type": "stream",
     "text": [
      "15\n",
      "None\n",
      "15\n",
      "result None\n"
     ]
    }
   ],
   "source": [
    "def add(a, b):\n",
    "    result = a + b\n",
    "    print(result)\n",
    "print(add(5, 10))\n",
    "\n",
    "op = add(5, 10)\n",
    "\n",
    "print('result',op)"
   ]
  },
  {
   "cell_type": "code",
   "execution_count": 34,
   "id": "db7979c4-af0b-4b68-9b62-a21cd1b4e6c5",
   "metadata": {},
   "outputs": [
    {
     "name": "stdout",
     "output_type": "stream",
     "text": [
      "15\n",
      "result 15\n"
     ]
    }
   ],
   "source": [
    "def add(a, b):\n",
    "    result = a + b\n",
    "    return result\n",
    "print(add(5, 10))\n",
    "\n",
    "op = add(5, 10)\n",
    "\n",
    "print('result',op)"
   ]
  },
  {
   "cell_type": "code",
   "execution_count": 35,
   "id": "68ac7b9e-29ba-47df-92c5-474338899fcf",
   "metadata": {},
   "outputs": [],
   "source": [
    "def largest(a,b):\n",
    "    if a > b:\n",
    "        return a\n",
    "    elif a == b:\n",
    "        return 'Equal'\n",
    "    else:\n",
    "        return b\n"
   ]
  },
  {
   "cell_type": "code",
   "execution_count": 36,
   "id": "b1fcbd1f-adcd-4ee2-89b6-c0338704ab33",
   "metadata": {},
   "outputs": [
    {
     "data": {
      "text/plain": [
       "'Equal'"
      ]
     },
     "execution_count": 36,
     "metadata": {},
     "output_type": "execute_result"
    }
   ],
   "source": [
    "largest(7, 7)"
   ]
  },
  {
   "cell_type": "code",
   "execution_count": 37,
   "id": "a5fb1c79-08e5-436e-bc2b-812e70baeeb8",
   "metadata": {},
   "outputs": [],
   "source": [
    "# perm and comb\n",
    "# ncr = n! / r!(n-r)!"
   ]
  },
  {
   "cell_type": "code",
   "execution_count": 3,
   "id": "5ffc4525-4c5e-477a-92c2-dc08ce0dfcbe",
   "metadata": {},
   "outputs": [],
   "source": [
    "def facto(n):\n",
    "    fact = 1\n",
    "    for i in range(1, n+1):\n",
    "        fact = fact * i\n",
    "    return fact"
   ]
  },
  {
   "cell_type": "code",
   "execution_count": 4,
   "id": "468787a9-61c4-4bc6-8da3-5c863357b34b",
   "metadata": {},
   "outputs": [
    {
     "name": "stdin",
     "output_type": "stream",
     "text": [
      "Total:  10\n",
      "combinations of:  3\n"
     ]
    },
    {
     "name": "stdout",
     "output_type": "stream",
     "text": [
      "120.0\n"
     ]
    }
   ],
   "source": [
    "n = int(input('Total: '))\n",
    "r = int(input('combinations of: '))\n",
    "\n",
    "ncr = facto(n) / (facto(r) * facto(n-r))\n",
    "print(ncr)"
   ]
  },
  {
   "cell_type": "code",
   "execution_count": 44,
   "id": "9a27b33d-9abf-4d54-88a1-022bb326884d",
   "metadata": {},
   "outputs": [],
   "source": [
    "def calc(n):\n",
    "    sq = n * n\n",
    "    cu = n ** 3\n",
    "    return sq, cu"
   ]
  },
  {
   "cell_type": "code",
   "execution_count": 45,
   "id": "53575008-c4e7-4221-abf3-43359a7be601",
   "metadata": {},
   "outputs": [
    {
     "data": {
      "text/plain": [
       "(25, 125)"
      ]
     },
     "execution_count": 45,
     "metadata": {},
     "output_type": "execute_result"
    }
   ],
   "source": [
    "calc(5)"
   ]
  },
  {
   "cell_type": "code",
   "execution_count": 46,
   "id": "1ad3f854-6aff-4d05-8f57-92c7b1e1cb03",
   "metadata": {},
   "outputs": [
    {
     "name": "stdin",
     "output_type": "stream",
     "text": [
      "Enter the number 5\n"
     ]
    },
    {
     "name": "stdout",
     "output_type": "stream",
     "text": [
      "square 25\n",
      "cube 125\n"
     ]
    }
   ],
   "source": [
    "n = int(input('Enter the number'))\n",
    "x, y = calc(n)\n",
    "print('square', x)\n",
    "print('cube', y)"
   ]
  },
  {
   "cell_type": "code",
   "execution_count": 48,
   "id": "2ad122f3-131d-47a4-8904-84a4ee3dc315",
   "metadata": {},
   "outputs": [],
   "source": [
    "# default parameter\n",
    "\n",
    "def add3(a = 5, b = 7, c = 10):\n",
    "    result = a + b + c\n",
    "    return result"
   ]
  },
  {
   "cell_type": "code",
   "execution_count": 49,
   "id": "064f3485-90a0-425c-b6ba-0eb03a318611",
   "metadata": {},
   "outputs": [
    {
     "data": {
      "text/plain": [
       "22"
      ]
     },
     "execution_count": 49,
     "metadata": {},
     "output_type": "execute_result"
    }
   ],
   "source": [
    "add3()"
   ]
  },
  {
   "cell_type": "code",
   "execution_count": 50,
   "id": "e6dd9353-0907-44d7-a16c-d10d2a6700fe",
   "metadata": {},
   "outputs": [
    {
     "data": {
      "text/plain": [
       "27"
      ]
     },
     "execution_count": 50,
     "metadata": {},
     "output_type": "execute_result"
    }
   ],
   "source": [
    "add3(10)"
   ]
  },
  {
   "cell_type": "code",
   "execution_count": 52,
   "id": "f1806e2e-644d-4c9c-80a1-ac8417e4a9f6",
   "metadata": {},
   "outputs": [
    {
     "data": {
      "text/plain": [
       "30"
      ]
     },
     "execution_count": 52,
     "metadata": {},
     "output_type": "execute_result"
    }
   ],
   "source": [
    "add3(10,10)"
   ]
  },
  {
   "cell_type": "code",
   "execution_count": 53,
   "id": "50070d16-ad5d-4c72-93ef-951a00f45885",
   "metadata": {},
   "outputs": [
    {
     "data": {
      "text/plain": [
       "37"
      ]
     },
     "execution_count": 53,
     "metadata": {},
     "output_type": "execute_result"
    }
   ],
   "source": [
    "add3(a = 10,c = 20)"
   ]
  },
  {
   "cell_type": "code",
   "execution_count": 55,
   "id": "911d32e3-009c-437b-92fd-7cdcd934632c",
   "metadata": {},
   "outputs": [],
   "source": [
    "def add3(b, a = 5,c = 10):\n",
    "    result = a + b + c\n",
    "    return result"
   ]
  },
  {
   "cell_type": "code",
   "execution_count": 56,
   "id": "ff373a01-abd8-49fb-a1e1-7737f189350f",
   "metadata": {},
   "outputs": [
    {
     "data": {
      "text/plain": [
       "25"
      ]
     },
     "execution_count": 56,
     "metadata": {},
     "output_type": "execute_result"
    }
   ],
   "source": [
    "add3(10)"
   ]
  },
  {
   "cell_type": "code",
   "execution_count": 61,
   "id": "3f3111e1-66ee-4523-9af8-0c7200f97037",
   "metadata": {},
   "outputs": [],
   "source": [
    "# dynamic or variable length parameter\n",
    "\n",
    "def in1(*args):\n",
    "    for i in args:\n",
    "     print(i)"
   ]
  },
  {
   "cell_type": "code",
   "execution_count": 62,
   "id": "76953b75-efb0-4463-b4c7-c416d20c1bf2",
   "metadata": {},
   "outputs": [
    {
     "name": "stdout",
     "output_type": "stream",
     "text": [
      "1\n",
      "2\n",
      "3\n",
      "5\n",
      "6\n",
      "7\n"
     ]
    }
   ],
   "source": [
    "in1(1,2,3,5,6,7)"
   ]
  },
  {
   "cell_type": "code",
   "execution_count": 69,
   "id": "c7749dbc-01eb-4076-a17e-0d76fd797557",
   "metadata": {},
   "outputs": [],
   "source": [
    "# lambda function\n",
    "\n",
    "square = lambda x: x * x"
   ]
  },
  {
   "cell_type": "code",
   "execution_count": 70,
   "id": "74e9b4d6-7c41-4b41-872b-d6570ff2f612",
   "metadata": {},
   "outputs": [
    {
     "data": {
      "text/plain": [
       "25"
      ]
     },
     "execution_count": 70,
     "metadata": {},
     "output_type": "execute_result"
    }
   ],
   "source": [
    "square(5)"
   ]
  },
  {
   "cell_type": "code",
   "execution_count": 71,
   "id": "7692add5-92fb-43e0-a8c4-eb2d3c146f9e",
   "metadata": {},
   "outputs": [],
   "source": [
    "# Adding 2 numbers\n",
    "\n",
    "ad = lambda x,y: x + y"
   ]
  },
  {
   "cell_type": "code",
   "execution_count": 72,
   "id": "fdf2bf76-82dc-4d5c-8223-45f11531faf7",
   "metadata": {},
   "outputs": [
    {
     "data": {
      "text/plain": [
       "77"
      ]
     },
     "execution_count": 72,
     "metadata": {},
     "output_type": "execute_result"
    }
   ],
   "source": [
    "ad(10,67)"
   ]
  },
  {
   "cell_type": "code",
   "execution_count": 73,
   "id": "662d7f57-1e55-4dfa-aff7-c0dd69f08404",
   "metadata": {},
   "outputs": [],
   "source": [
    "# filter\n",
    "\n",
    "num = [23, 45, 76, 13, 57, 21]\n"
   ]
  },
  {
   "cell_type": "code",
   "execution_count": 75,
   "id": "1a0e7bd8-75de-454c-bc95-e8b2cd6df46b",
   "metadata": {},
   "outputs": [],
   "source": [
    "new = filter(lambda x: x > 40, num)"
   ]
  },
  {
   "cell_type": "code",
   "execution_count": 76,
   "id": "ef5f6678-b099-4df5-996a-0016999e94f5",
   "metadata": {},
   "outputs": [
    {
     "data": {
      "text/plain": [
       "[45, 76, 57]"
      ]
     },
     "execution_count": 76,
     "metadata": {},
     "output_type": "execute_result"
    }
   ],
   "source": [
    "list(new)"
   ]
  },
  {
   "cell_type": "code",
   "execution_count": 82,
   "id": "074e86a1-6dcb-49dd-a3ac-c07ec9dd4cdd",
   "metadata": {},
   "outputs": [],
   "source": [
    "# map\n",
    "\n",
    "new = map(lambda x: x/2,num)"
   ]
  },
  {
   "cell_type": "code",
   "execution_count": 83,
   "id": "62601842-2e3f-43e2-aa4b-a5edac14d0bf",
   "metadata": {},
   "outputs": [
    {
     "data": {
      "text/plain": [
       "[11.5, 22.5, 38.0, 6.5, 28.5, 10.5]"
      ]
     },
     "execution_count": 83,
     "metadata": {},
     "output_type": "execute_result"
    }
   ],
   "source": [
    "list(new)"
   ]
  },
  {
   "cell_type": "markdown",
   "id": "5bdf98d8-7625-402b-90ea-740ff229129f",
   "metadata": {},
   "source": [
    "# modules"
   ]
  },
  {
   "cell_type": "code",
   "execution_count": 1,
   "id": "9fd9eac3-ebf4-43ae-b636-cc13eb435138",
   "metadata": {},
   "outputs": [],
   "source": [
    "import math"
   ]
  },
  {
   "cell_type": "code",
   "execution_count": 2,
   "id": "3b9e1a61-d008-4b76-9f80-f588a03d0880",
   "metadata": {},
   "outputs": [
    {
     "name": "stdout",
     "output_type": "stream",
     "text": [
      "Help on built-in module math:\n",
      "\n",
      "NAME\n",
      "    math\n",
      "\n",
      "DESCRIPTION\n",
      "    This module provides access to the mathematical functions\n",
      "    defined by the C standard.\n",
      "\n",
      "FUNCTIONS\n",
      "    acos(x, /)\n",
      "        Return the arc cosine (measured in radians) of x.\n",
      "        \n",
      "        The result is between 0 and pi.\n",
      "    \n",
      "    acosh(x, /)\n",
      "        Return the inverse hyperbolic cosine of x.\n",
      "    \n",
      "    asin(x, /)\n",
      "        Return the arc sine (measured in radians) of x.\n",
      "        \n",
      "        The result is between -pi/2 and pi/2.\n",
      "    \n",
      "    asinh(x, /)\n",
      "        Return the inverse hyperbolic sine of x.\n",
      "    \n",
      "    atan(x, /)\n",
      "        Return the arc tangent (measured in radians) of x.\n",
      "        \n",
      "        The result is between -pi/2 and pi/2.\n",
      "    \n",
      "    atan2(y, x, /)\n",
      "        Return the arc tangent (measured in radians) of y/x.\n",
      "        \n",
      "        Unlike atan(y/x), the signs of both x and y are considered.\n",
      "    \n",
      "    atanh(x, /)\n",
      "        Return the inverse hyperbolic tangent of x.\n",
      "    \n",
      "    cbrt(x, /)\n",
      "        Return the cube root of x.\n",
      "    \n",
      "    ceil(x, /)\n",
      "        Return the ceiling of x as an Integral.\n",
      "        \n",
      "        This is the smallest integer >= x.\n",
      "    \n",
      "    comb(n, k, /)\n",
      "        Number of ways to choose k items from n items without repetition and without order.\n",
      "        \n",
      "        Evaluates to n! / (k! * (n - k)!) when k <= n and evaluates\n",
      "        to zero when k > n.\n",
      "        \n",
      "        Also called the binomial coefficient because it is equivalent\n",
      "        to the coefficient of k-th term in polynomial expansion of the\n",
      "        expression (1 + x)**n.\n",
      "        \n",
      "        Raises TypeError if either of the arguments are not integers.\n",
      "        Raises ValueError if either of the arguments are negative.\n",
      "    \n",
      "    copysign(x, y, /)\n",
      "        Return a float with the magnitude (absolute value) of x but the sign of y.\n",
      "        \n",
      "        On platforms that support signed zeros, copysign(1.0, -0.0)\n",
      "        returns -1.0.\n",
      "    \n",
      "    cos(x, /)\n",
      "        Return the cosine of x (measured in radians).\n",
      "    \n",
      "    cosh(x, /)\n",
      "        Return the hyperbolic cosine of x.\n",
      "    \n",
      "    degrees(x, /)\n",
      "        Convert angle x from radians to degrees.\n",
      "    \n",
      "    dist(p, q, /)\n",
      "        Return the Euclidean distance between two points p and q.\n",
      "        \n",
      "        The points should be specified as sequences (or iterables) of\n",
      "        coordinates.  Both inputs must have the same dimension.\n",
      "        \n",
      "        Roughly equivalent to:\n",
      "            sqrt(sum((px - qx) ** 2.0 for px, qx in zip(p, q)))\n",
      "    \n",
      "    erf(x, /)\n",
      "        Error function at x.\n",
      "    \n",
      "    erfc(x, /)\n",
      "        Complementary error function at x.\n",
      "    \n",
      "    exp(x, /)\n",
      "        Return e raised to the power of x.\n",
      "    \n",
      "    exp2(x, /)\n",
      "        Return 2 raised to the power of x.\n",
      "    \n",
      "    expm1(x, /)\n",
      "        Return exp(x)-1.\n",
      "        \n",
      "        This function avoids the loss of precision involved in the direct evaluation of exp(x)-1 for small x.\n",
      "    \n",
      "    fabs(x, /)\n",
      "        Return the absolute value of the float x.\n",
      "    \n",
      "    factorial(n, /)\n",
      "        Find n!.\n",
      "        \n",
      "        Raise a ValueError if x is negative or non-integral.\n",
      "    \n",
      "    floor(x, /)\n",
      "        Return the floor of x as an Integral.\n",
      "        \n",
      "        This is the largest integer <= x.\n",
      "    \n",
      "    fmod(x, y, /)\n",
      "        Return fmod(x, y), according to platform C.\n",
      "        \n",
      "        x % y may differ.\n",
      "    \n",
      "    frexp(x, /)\n",
      "        Return the mantissa and exponent of x, as pair (m, e).\n",
      "        \n",
      "        m is a float and e is an int, such that x = m * 2.**e.\n",
      "        If x is 0, m and e are both 0.  Else 0.5 <= abs(m) < 1.0.\n",
      "    \n",
      "    fsum(seq, /)\n",
      "        Return an accurate floating point sum of values in the iterable seq.\n",
      "        \n",
      "        Assumes IEEE-754 floating point arithmetic.\n",
      "    \n",
      "    gamma(x, /)\n",
      "        Gamma function at x.\n",
      "    \n",
      "    gcd(*integers)\n",
      "        Greatest Common Divisor.\n",
      "    \n",
      "    hypot(...)\n",
      "        hypot(*coordinates) -> value\n",
      "        \n",
      "        Multidimensional Euclidean distance from the origin to a point.\n",
      "        \n",
      "        Roughly equivalent to:\n",
      "            sqrt(sum(x**2 for x in coordinates))\n",
      "        \n",
      "        For a two dimensional point (x, y), gives the hypotenuse\n",
      "        using the Pythagorean theorem:  sqrt(x*x + y*y).\n",
      "        \n",
      "        For example, the hypotenuse of a 3/4/5 right triangle is:\n",
      "        \n",
      "            >>> hypot(3.0, 4.0)\n",
      "            5.0\n",
      "    \n",
      "    isclose(a, b, *, rel_tol=1e-09, abs_tol=0.0)\n",
      "        Determine whether two floating point numbers are close in value.\n",
      "        \n",
      "          rel_tol\n",
      "            maximum difference for being considered \"close\", relative to the\n",
      "            magnitude of the input values\n",
      "          abs_tol\n",
      "            maximum difference for being considered \"close\", regardless of the\n",
      "            magnitude of the input values\n",
      "        \n",
      "        Return True if a is close in value to b, and False otherwise.\n",
      "        \n",
      "        For the values to be considered close, the difference between them\n",
      "        must be smaller than at least one of the tolerances.\n",
      "        \n",
      "        -inf, inf and NaN behave similarly to the IEEE 754 Standard.  That\n",
      "        is, NaN is not close to anything, even itself.  inf and -inf are\n",
      "        only close to themselves.\n",
      "    \n",
      "    isfinite(x, /)\n",
      "        Return True if x is neither an infinity nor a NaN, and False otherwise.\n",
      "    \n",
      "    isinf(x, /)\n",
      "        Return True if x is a positive or negative infinity, and False otherwise.\n",
      "    \n",
      "    isnan(x, /)\n",
      "        Return True if x is a NaN (not a number), and False otherwise.\n",
      "    \n",
      "    isqrt(n, /)\n",
      "        Return the integer part of the square root of the input.\n",
      "    \n",
      "    lcm(*integers)\n",
      "        Least Common Multiple.\n",
      "    \n",
      "    ldexp(x, i, /)\n",
      "        Return x * (2**i).\n",
      "        \n",
      "        This is essentially the inverse of frexp().\n",
      "    \n",
      "    lgamma(x, /)\n",
      "        Natural logarithm of absolute value of Gamma function at x.\n",
      "    \n",
      "    log(...)\n",
      "        log(x, [base=math.e])\n",
      "        Return the logarithm of x to the given base.\n",
      "        \n",
      "        If the base not specified, returns the natural logarithm (base e) of x.\n",
      "    \n",
      "    log10(x, /)\n",
      "        Return the base 10 logarithm of x.\n",
      "    \n",
      "    log1p(x, /)\n",
      "        Return the natural logarithm of 1+x (base e).\n",
      "        \n",
      "        The result is computed in a way which is accurate for x near zero.\n",
      "    \n",
      "    log2(x, /)\n",
      "        Return the base 2 logarithm of x.\n",
      "    \n",
      "    modf(x, /)\n",
      "        Return the fractional and integer parts of x.\n",
      "        \n",
      "        Both results carry the sign of x and are floats.\n",
      "    \n",
      "    nextafter(x, y, /)\n",
      "        Return the next floating-point value after x towards y.\n",
      "    \n",
      "    perm(n, k=None, /)\n",
      "        Number of ways to choose k items from n items without repetition and with order.\n",
      "        \n",
      "        Evaluates to n! / (n - k)! when k <= n and evaluates\n",
      "        to zero when k > n.\n",
      "        \n",
      "        If k is not specified or is None, then k defaults to n\n",
      "        and the function returns n!.\n",
      "        \n",
      "        Raises TypeError if either of the arguments are not integers.\n",
      "        Raises ValueError if either of the arguments are negative.\n",
      "    \n",
      "    pow(x, y, /)\n",
      "        Return x**y (x to the power of y).\n",
      "    \n",
      "    prod(iterable, /, *, start=1)\n",
      "        Calculate the product of all the elements in the input iterable.\n",
      "        \n",
      "        The default start value for the product is 1.\n",
      "        \n",
      "        When the iterable is empty, return the start value.  This function is\n",
      "        intended specifically for use with numeric values and may reject\n",
      "        non-numeric types.\n",
      "    \n",
      "    radians(x, /)\n",
      "        Convert angle x from degrees to radians.\n",
      "    \n",
      "    remainder(x, y, /)\n",
      "        Difference between x and the closest integer multiple of y.\n",
      "        \n",
      "        Return x - n*y where n*y is the closest integer multiple of y.\n",
      "        In the case where x is exactly halfway between two multiples of\n",
      "        y, the nearest even value of n is used. The result is always exact.\n",
      "    \n",
      "    sin(x, /)\n",
      "        Return the sine of x (measured in radians).\n",
      "    \n",
      "    sinh(x, /)\n",
      "        Return the hyperbolic sine of x.\n",
      "    \n",
      "    sqrt(x, /)\n",
      "        Return the square root of x.\n",
      "    \n",
      "    tan(x, /)\n",
      "        Return the tangent of x (measured in radians).\n",
      "    \n",
      "    tanh(x, /)\n",
      "        Return the hyperbolic tangent of x.\n",
      "    \n",
      "    trunc(x, /)\n",
      "        Truncates the Real x to the nearest Integral toward 0.\n",
      "        \n",
      "        Uses the __trunc__ magic method.\n",
      "    \n",
      "    ulp(x, /)\n",
      "        Return the value of the least significant bit of the float x.\n",
      "\n",
      "DATA\n",
      "    e = 2.718281828459045\n",
      "    inf = inf\n",
      "    nan = nan\n",
      "    pi = 3.141592653589793\n",
      "    tau = 6.283185307179586\n",
      "\n",
      "FILE\n",
      "    (built-in)\n",
      "\n",
      "\n"
     ]
    }
   ],
   "source": [
    "help(math)"
   ]
  },
  {
   "cell_type": "code",
   "execution_count": 84,
   "id": "c10d12a2-a416-4bd7-9497-80fffac613ea",
   "metadata": {},
   "outputs": [
    {
     "data": {
      "text/plain": [
       "10.0"
      ]
     },
     "execution_count": 84,
     "metadata": {},
     "output_type": "execute_result"
    }
   ],
   "source": [
    "math.sqrt(100)"
   ]
  },
  {
   "cell_type": "code",
   "execution_count": 85,
   "id": "d6c648cc-29cd-4e13-b915-b00ecf659bb5",
   "metadata": {},
   "outputs": [
    {
     "data": {
      "text/plain": [
       "-0.9880316240928618"
      ]
     },
     "execution_count": 85,
     "metadata": {},
     "output_type": "execute_result"
    }
   ],
   "source": [
    "math.sin(30)"
   ]
  },
  {
   "cell_type": "code",
   "execution_count": 87,
   "id": "bef53729-7147-458f-9545-61213b7c58b5",
   "metadata": {},
   "outputs": [
    {
     "data": {
      "text/plain": [
       "2.302585092994046"
      ]
     },
     "execution_count": 87,
     "metadata": {},
     "output_type": "execute_result"
    }
   ],
   "source": [
    "math.log(10)"
   ]
  },
  {
   "cell_type": "code",
   "execution_count": 88,
   "id": "0de7dda6-cdab-42f3-97e8-c34f37cf5c05",
   "metadata": {},
   "outputs": [
    {
     "name": "stdin",
     "output_type": "stream",
     "text": [
      "Enter the radius  5\n"
     ]
    },
    {
     "name": "stdout",
     "output_type": "stream",
     "text": [
      "Area of circle is: 28.274333882308138\n"
     ]
    }
   ],
   "source": [
    "# read a radius and find area\n",
    "\n",
    "radius = float(input('Enter the radius '))\n",
    "\n",
    "print('Area of circle is:',math.pi * r * r)"
   ]
  },
  {
   "cell_type": "code",
   "execution_count": 89,
   "id": "c8a9d2f4-cd7f-46dd-9834-e234107ab9d1",
   "metadata": {},
   "outputs": [],
   "source": [
    "import time"
   ]
  },
  {
   "cell_type": "code",
   "execution_count": 90,
   "id": "5dd40879-884c-4dc2-bcea-b604aaf7d37d",
   "metadata": {},
   "outputs": [
    {
     "data": {
      "text/plain": [
       "'Mon Jun 10 12:10:40 2024'"
      ]
     },
     "execution_count": 90,
     "metadata": {},
     "output_type": "execute_result"
    }
   ],
   "source": [
    "time.asctime()"
   ]
  },
  {
   "cell_type": "code",
   "execution_count": 91,
   "id": "94034c69-af52-45f7-b627-6cc5841296af",
   "metadata": {},
   "outputs": [
    {
     "name": "stdout",
     "output_type": "stream",
     "text": [
      "Hello\n",
      "OK\n"
     ]
    }
   ],
   "source": [
    "print('Hello')\n",
    "time.sleep(5)\n",
    "print('OK')"
   ]
  },
  {
   "cell_type": "code",
   "execution_count": 92,
   "id": "2cbbd1bd-a63b-41e4-b671-99296bd69107",
   "metadata": {},
   "outputs": [],
   "source": [
    "#  give an alias\n",
    "\n",
    "import math as m"
   ]
  },
  {
   "cell_type": "code",
   "execution_count": 93,
   "id": "1e3e4f26-2d24-4a34-af5c-a0374117d472",
   "metadata": {},
   "outputs": [
    {
     "data": {
      "text/plain": [
       "2.23606797749979"
      ]
     },
     "execution_count": 93,
     "metadata": {},
     "output_type": "execute_result"
    }
   ],
   "source": [
    "m.sqrt(5)"
   ]
  },
  {
   "cell_type": "code",
   "execution_count": 94,
   "id": "fddcbbd8-da77-497f-8426-31c40143d01f",
   "metadata": {},
   "outputs": [],
   "source": [
    "# selective imports\n",
    "\n",
    "from math import sqrt, sin, pi"
   ]
  },
  {
   "cell_type": "code",
   "execution_count": 96,
   "id": "11c6dc92-1709-45b0-9ca8-f10d0e15f91e",
   "metadata": {},
   "outputs": [
    {
     "data": {
      "text/plain": [
       "2.23606797749979"
      ]
     },
     "execution_count": 96,
     "metadata": {},
     "output_type": "execute_result"
    }
   ],
   "source": [
    "sqrt(5)"
   ]
  },
  {
   "cell_type": "code",
   "execution_count": 97,
   "id": "4148f5f0-57b2-4d01-b6b2-e52cb4df5313",
   "metadata": {},
   "outputs": [
    {
     "data": {
      "text/plain": [
       "3.141592653589793"
      ]
     },
     "execution_count": 97,
     "metadata": {},
     "output_type": "execute_result"
    }
   ],
   "source": [
    "pi"
   ]
  },
  {
   "cell_type": "code",
   "execution_count": 10,
   "id": "ff547334-9c14-420e-b596-6611d7d385da",
   "metadata": {},
   "outputs": [
    {
     "ename": "ModuleNotFoundError",
     "evalue": "No module named 'mod11'",
     "output_type": "error",
     "traceback": [
      "\u001b[1;31m---------------------------------------------------------------------------\u001b[0m",
      "\u001b[1;31mModuleNotFoundError\u001b[0m                       Traceback (most recent call last)",
      "Cell \u001b[1;32mIn[10], line 3\u001b[0m\n\u001b[0;32m      1\u001b[0m \u001b[38;5;66;03m# import user defined modules\u001b[39;00m\n\u001b[1;32m----> 3\u001b[0m \u001b[38;5;28;01mimport\u001b[39;00m \u001b[38;5;21;01mmod11\u001b[39;00m\n",
      "\u001b[1;31mModuleNotFoundError\u001b[0m: No module named 'mod11'"
     ]
    }
   ],
   "source": [
    "# import user defined modules\n",
    "\n",
    "import mod11"
   ]
  },
  {
   "cell_type": "code",
   "execution_count": 11,
   "id": "de3d91fc-7260-41fb-989d-83aa5711a66f",
   "metadata": {},
   "outputs": [
    {
     "ename": "ModuleNotFoundError",
     "evalue": "No module named 'mod11'",
     "output_type": "error",
     "traceback": [
      "\u001b[1;31m---------------------------------------------------------------------------\u001b[0m",
      "\u001b[1;31mModuleNotFoundError\u001b[0m                       Traceback (most recent call last)",
      "Cell \u001b[1;32mIn[11], line 1\u001b[0m\n\u001b[1;32m----> 1\u001b[0m \u001b[38;5;28;01mimport\u001b[39;00m \u001b[38;5;21;01mmod11\u001b[39;00m \u001b[38;5;28;01mas\u001b[39;00m \u001b[38;5;21;01mm\u001b[39;00m\n",
      "\u001b[1;31mModuleNotFoundError\u001b[0m: No module named 'mod11'"
     ]
    }
   ],
   "source": [
    "import mod11 as m"
   ]
  },
  {
   "cell_type": "code",
   "execution_count": null,
   "id": "41e8604c-7290-45b5-96a8-6b5d8d025067",
   "metadata": {},
   "outputs": [],
   "source": []
  }
 ],
 "metadata": {
  "kernelspec": {
   "display_name": "Python 3 (ipykernel)",
   "language": "python",
   "name": "python3"
  },
  "language_info": {
   "codemirror_mode": {
    "name": "ipython",
    "version": 3
   },
   "file_extension": ".py",
   "mimetype": "text/x-python",
   "name": "python",
   "nbconvert_exporter": "python",
   "pygments_lexer": "ipython3",
   "version": "3.11.7"
  }
 },
 "nbformat": 4,
 "nbformat_minor": 5
}
