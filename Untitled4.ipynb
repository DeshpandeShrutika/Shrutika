{
 "cells": [
  {
   "cell_type": "code",
   "execution_count": 7,
   "id": "a2a880a6-5188-4134-b517-a19e1038398a",
   "metadata": {},
   "outputs": [
    {
     "name": "stdin",
     "output_type": "stream",
     "text": [
      "Enter the number  10\n"
     ]
    }
   ],
   "source": [
    "\n",
    "num = int(input('Enter the number '))\n",
    "\n",
    "if num > 50:\n",
    "   print( 'OK' )"
   ]
  },
  {
   "cell_type": "code",
   "execution_count": 12,
   "id": "85498205-2e87-40fd-84f5-c333e3138d0c",
   "metadata": {},
   "outputs": [
    {
     "name": "stdin",
     "output_type": "stream",
     "text": [
      "Enter the number  0\n"
     ]
    },
    {
     "name": "stdout",
     "output_type": "stream",
     "text": [
      "Negative\n",
      "GoodBye!!!\n"
     ]
    }
   ],
   "source": [
    "num = int(input('Enter the number '))\n",
    "\n",
    "if num > 0:\n",
    "     print( 'Positive' )\n",
    "     print( 'OK' )\n",
    "else:\n",
    "     print( 'Negative' )\n",
    "     print( 'GoodBye!!!' )"
   ]
  },
  {
   "cell_type": "code",
   "execution_count": 13,
   "id": "c6d660d8-0421-4cd1-881a-83193d291c92",
   "metadata": {},
   "outputs": [
    {
     "name": "stdin",
     "output_type": "stream",
     "text": [
      "Enter the number 0\n"
     ]
    },
    {
     "name": "stdout",
     "output_type": "stream",
     "text": [
      "ZERO\n"
     ]
    }
   ],
   "source": [
    "num = int(input('Enter the number'))\n",
    "\n",
    "if num > 0:\n",
    "    print('Positive')\n",
    "elif num == 0:\n",
    "    print('ZERO')\n",
    "else:\n",
    "      print( 'Negative' )"
   ]
  },
  {
   "cell_type": "code",
   "execution_count": 15,
   "id": "fcc14a13-23fd-4627-be83-97f45a5e0bbc",
   "metadata": {},
   "outputs": [
    {
     "name": "stdin",
     "output_type": "stream",
     "text": [
      "Enter the number 0\n"
     ]
    },
    {
     "name": "stdout",
     "output_type": "stream",
     "text": [
      "Even\n"
     ]
    }
   ],
   "source": [
    "# even or odd\n",
    "\n",
    "num = int(input('Enter the number'))\n",
    "\n",
    "if num % 2 ==0:\n",
    "    print('Even')\n",
    "else:\n",
    "    print('Odd')"
   ]
  },
  {
   "cell_type": "code",
   "execution_count": 16,
   "id": "a7a42060-ad27-4d93-8c22-004cb9fe9c98",
   "metadata": {},
   "outputs": [
    {
     "data": {
      "text/plain": [
       "0"
      ]
     },
     "execution_count": 16,
     "metadata": {},
     "output_type": "execute_result"
    }
   ],
   "source": [
    "int(False)"
   ]
  },
  {
   "cell_type": "code",
   "execution_count": 17,
   "id": "1d8d31e4-4fed-4b81-b409-5f5777d8352c",
   "metadata": {},
   "outputs": [
    {
     "data": {
      "text/plain": [
       "1"
      ]
     },
     "execution_count": 17,
     "metadata": {},
     "output_type": "execute_result"
    }
   ],
   "source": [
    "int(True)"
   ]
  },
  {
   "cell_type": "code",
   "execution_count": 19,
   "id": "865d21b8-bb0d-4bfe-9d4e-ed46b40693d3",
   "metadata": {},
   "outputs": [
    {
     "data": {
      "text/plain": [
       "2"
      ]
     },
     "execution_count": 19,
     "metadata": {},
     "output_type": "execute_result"
    }
   ],
   "source": [
    "True + True + False"
   ]
  },
  {
   "cell_type": "code",
   "execution_count": 21,
   "id": "b9cb6b75-31e2-47fa-91f3-be7ad52d72e4",
   "metadata": {},
   "outputs": [
    {
     "name": "stdout",
     "output_type": "stream",
     "text": [
      "OK\n"
     ]
    }
   ],
   "source": [
    "b = 56\n",
    "\n",
    "if b:\n",
    "    print('OK')"
   ]
  },
  {
   "cell_type": "code",
   "execution_count": 26,
   "id": "100c8a0e-e511-4447-a364-c57ec0338b9e",
   "metadata": {},
   "outputs": [
    {
     "name": "stdin",
     "output_type": "stream",
     "text": [
      "Enter the number 10\n"
     ]
    },
    {
     "name": "stdout",
     "output_type": "stream",
     "text": [
      "Not Correct\n"
     ]
    }
   ],
   "source": [
    "# chech the no is between 1 to 50\n",
    "\n",
    "num = int(input('Enter the number'))\n",
    "\n",
    "if num > 50:\n",
    "    if num < 150:\n",
    "        print('Correct')\n",
    "    else:\n",
    "        print('Greater than 150')\n",
    "else:\n",
    "        print('Not Correct')\n",
    "\n",
    "        \n",
    "    "
   ]
  },
  {
   "cell_type": "code",
   "execution_count": 29,
   "id": "aeb91ea3-f718-4122-88b8-4be7267d6e57",
   "metadata": {},
   "outputs": [
    {
     "name": "stdin",
     "output_type": "stream",
     "text": [
      "Enter the number 157\n"
     ]
    },
    {
     "name": "stdout",
     "output_type": "stream",
     "text": [
      "Incorrect\n"
     ]
    }
   ],
   "source": [
    "num = int(input('Enter the number'))\n",
    "\n",
    "if num > 50 and num < 150:\n",
    "   print('Correct')\n",
    "else:\n",
    "    print('Incorrect')"
   ]
  },
  {
   "cell_type": "markdown",
   "id": "65587314-103c-43af-b8fe-966411bc4786",
   "metadata": {},
   "source": [
    "# read the purches cost and selling cost\n",
    "# state profit and loss and how much?"
   ]
  },
  {
   "cell_type": "code",
   "execution_count": 36,
   "id": "4f7e0e85-0975-47b8-b33a-47981326d57b",
   "metadata": {},
   "outputs": [
    {
     "name": "stdin",
     "output_type": "stream",
     "text": [
      "Enter the selling cost 1000\n",
      "Enter the purchase cost 700\n"
     ]
    },
    {
     "name": "stdout",
     "output_type": "stream",
     "text": [
      "Profit: 300\n"
     ]
    }
   ],
   "source": [
    "selling_cost = int(input('Enter the selling cost'))\n",
    "purchase_cost = int(input('Enter the purchase cost'))\n",
    "\n",
    "if selling_cost > purchase_cost:\n",
    "   print('Profit:',selling_cost - purchase_cost)\n",
    "else:\n",
    "     print('Loss:',purchase_cost - selling_cost)\n",
    "    "
   ]
  },
  {
   "cell_type": "code",
   "execution_count": 37,
   "id": "464b1194-4fbc-47d3-a900-686bd3becf9d",
   "metadata": {},
   "outputs": [],
   "source": [
    "# take 3 numbers find the largest of them\n",
    "# not allowed to use 'and' or 'or'\n"
   ]
  },
  {
   "cell_type": "code",
   "execution_count": 64,
   "id": "e9683753-2cda-474b-944d-7bd02a801ea1",
   "metadata": {},
   "outputs": [
    {
     "ename": "IndentationError",
     "evalue": "unindent does not match any outer indentation level (<tokenize>, line 13)",
     "output_type": "error",
     "traceback": [
      "\u001b[1;36m  File \u001b[1;32m<tokenize>:13\u001b[1;36m\u001b[0m\n\u001b[1;33m    else:\u001b[0m\n\u001b[1;37m    ^\u001b[0m\n\u001b[1;31mIndentationError\u001b[0m\u001b[1;31m:\u001b[0m unindent does not match any outer indentation level\n"
     ]
    }
   ],
   "source": [
    "num1 = int(input(\"Enter Num1 :- \"))\n",
    "num2 = int(input(\"Enter Num2 :- \"))\n",
    "num3 = int(input(\"Enter Num3 :- \"))\n",
    "\n",
    "if num1 > num2:\n",
    "   if num1 > num3:\n",
    "       print(\"Num1 is greater\")\n",
    "   else:\n",
    "       print(\"Num3 is greater\")\n",
    "else:\n",
    "    if num2 > num3:\n",
    "       print(\"Num2 is greater\")\n",
    "   else:\n",
    "       print(\"Num3 is greater\")"
   ]
  },
  {
   "cell_type": "code",
   "execution_count": 58,
   "id": "5a7a6c36-19e5-46da-9d31-b093057994fd",
   "metadata": {},
   "outputs": [
    {
     "name": "stdin",
     "output_type": "stream",
     "text": [
      "Enter year :  1700\n"
     ]
    },
    {
     "name": "stdout",
     "output_type": "stream",
     "text": [
      "The year is not a leap year!\n"
     ]
    }
   ],
   "source": [
    "year = int(input(\"Enter year : \"))\n",
    " \n",
    "if year % 4 == 0:\n",
    "    if year % 100 == 0:\n",
    "        if year % 400 == 0:\n",
    "            print(\"The year is a leap year!\")\n",
    "        else:\n",
    "            print(\"The year is not a leap year!\")\n",
    "    else:\n",
    "        print(\"The year is a leap year!\")\n",
    "else:\n",
    "    print(\"The year is not a leap year!\")"
   ]
  },
  {
   "cell_type": "code",
   "execution_count": 62,
   "id": "ab850f8a-b170-4e57-b639-0aa3970ceeb1",
   "metadata": {},
   "outputs": [
    {
     "name": "stdin",
     "output_type": "stream",
     "text": [
      "Enter the marks:  9\n"
     ]
    },
    {
     "name": "stdout",
     "output_type": "stream",
     "text": [
      "fail\n"
     ]
    }
   ],
   "source": [
    "marks = float(input('Enter the marks: '))\n",
    "if marks >=35: \n",
    "     print('pass')\n",
    "elif marks >= 60:\n",
    "    print('first class')\n",
    "elif marks >=50:\n",
    "     print('second class')\n",
    "elif marks >=40:   \n",
    "     print('third class')\n",
    "elif marks >=35: \n",
    "     print('pass')\n",
    "else:\n",
    "     print('fail')"
   ]
  },
  {
   "cell_type": "code",
   "execution_count": 67,
   "id": "3a67c097-fd55-4b9e-9ae4-f1666525da7c",
   "metadata": {},
   "outputs": [
    {
     "name": "stdin",
     "output_type": "stream",
     "text": [
      "Enter the number 1\n"
     ]
    },
    {
     "name": "stdout",
     "output_type": "stream",
     "text": [
      "MENU:\n",
      "1.Square\n",
      "2.Cube\n",
      "3.check Positive or Negative\n"
     ]
    },
    {
     "name": "stdin",
     "output_type": "stream",
     "text": [
      "Enter your choice 1\n"
     ]
    },
    {
     "name": "stdout",
     "output_type": "stream",
     "text": [
      "Square is: 1\n"
     ]
    }
   ],
   "source": [
    "# menu driven\n",
    "\n",
    "'''\n",
    "based on the choice it will do square ,cube or check +ve or -ve\n",
    "'''\n",
    "num = int(input('Enter the number'))\n",
    "\n",
    "print('MENU:\\n1.Square\\n2.Cube\\n3.check Positive or Negative')\n",
    "\n",
    "choice = int(input('Enter your choice'))\n",
    "\n",
    "if choice == 1:\n",
    "    print ('Square is:',num * num)\n",
    "elif choice ==2:\n",
    "     print ('Cube is:',num * 3)\n",
    "elif choie ==3:\n",
    "    if num > 0:\n",
    "        print('Positive')\n",
    "    else:\n",
    "        print('Negative')\n",
    "else:\n",
    "    print(\"You must've forgotten ur space of brain\")"
   ]
  },
  {
   "cell_type": "code",
   "execution_count": null,
   "id": "4e7022db-1ac4-4a88-b9f5-ebd1988501bc",
   "metadata": {},
   "outputs": [],
   "source": [
    "num1 = int(input(\"Enter First Number: \"))\n",
    "num2 = int(input(\"Enter Second Number: \"))\n",
    "\n",
    "print(\"Enter which operation would you like to perform?\")\n",
    "ch = input(\"Enter any of these char for specific operation +,-,/: \")\n",
    "\n",
    "result = 0\n",
    "if ch == '+':\n",
    "    result = num1 + num2\n",
    "elif ch == '-':\n",
    "    result = num1 - num2\n",
    "elif ch == '/':\n",
    "    result = num1 / num2\n",
    "else:\n",
    "    print(\"Input character is not recognized!\")\n",
    "\n",
    "print(num1, ch , num2, \":\", result)"
   ]
  },
  {
   "cell_type": "code",
   "execution_count": null,
   "id": "bc6bc237-c46f-4358-87f9-625dd24b15f2",
   "metadata": {},
   "outputs": [],
   "source": []
  }
 ],
 "metadata": {
  "kernelspec": {
   "display_name": "Python 3 (ipykernel)",
   "language": "python",
   "name": "python3"
  },
  "language_info": {
   "codemirror_mode": {
    "name": "ipython",
    "version": 3
   },
   "file_extension": ".py",
   "mimetype": "text/x-python",
   "name": "python",
   "nbconvert_exporter": "python",
   "pygments_lexer": "ipython3",
   "version": "3.11.7"
  }
 },
 "nbformat": 4,
 "nbformat_minor": 5
}
