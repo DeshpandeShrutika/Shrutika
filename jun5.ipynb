{
 "cells": [
  {
   "cell_type": "code",
   "execution_count": 1,
   "id": "01e15b6f-0870-4afc-89c2-68d020c3b2ab",
   "metadata": {},
   "outputs": [
    {
     "name": "stdout",
     "output_type": "stream",
     "text": [
      "Shrutika\n",
      "Shrutika\n",
      "Shrutika\n",
      "Shrutika\n",
      "Shrutika\n"
     ]
    }
   ],
   "source": [
    "count = 1\n",
    "\n",
    "while count <= 5:\n",
    "    print('Shrutika')\n",
    "    count = count + 1"
   ]
  },
  {
   "cell_type": "code",
   "execution_count": 6,
   "id": "4c402b87-f2f0-4fe4-b62f-c580510e47cb",
   "metadata": {},
   "outputs": [
    {
     "name": "stdout",
     "output_type": "stream",
     "text": [
      "5 6 7 8 9 10 11 12 13 14 15 Good Bye!!!\n"
     ]
    }
   ],
   "source": [
    "count = 5\n",
    "\n",
    "while count <= 15:\n",
    "    print(count,end = ' ')\n",
    "    count +=1\n",
    "print('Good Bye!!!')"
   ]
  },
  {
   "cell_type": "code",
   "execution_count": 14,
   "id": "d367aa05-5cd3-4a8c-884f-ee7d655495d2",
   "metadata": {},
   "outputs": [
    {
     "name": "stdout",
     "output_type": "stream",
     "text": [
      "Addition is:  55\n"
     ]
    }
   ],
   "source": [
    "count = 1\n",
    "add = 0\n",
    "while count <= 10:\n",
    "    add = add + count\n",
    "    count += 1\n",
    "print(\"Addition is: \", sum)"
   ]
  },
  {
   "cell_type": "code",
   "execution_count": 15,
   "id": "3b10089b-b246-4ea9-8daf-6686b47c06a4",
   "metadata": {},
   "outputs": [
    {
     "name": "stdout",
     "output_type": "stream",
     "text": [
      "11\n"
     ]
    }
   ],
   "source": [
    "print(count)"
   ]
  },
  {
   "cell_type": "code",
   "execution_count": 24,
   "id": "5c96799f-3e4a-46eb-af9e-815d1d302b29",
   "metadata": {},
   "outputs": [
    {
     "name": "stdout",
     "output_type": "stream",
     "text": [
      "Addition is:  100\n"
     ]
    }
   ],
   "source": [
    "count = 1\n",
    "add = 0\n",
    "while count <= 20:\n",
    "    add = add + count\n",
    "    count += 2\n",
    "print(\"Addition is: \", add)"
   ]
  },
  {
   "cell_type": "code",
   "execution_count": 25,
   "id": "e1e496d6-b8c1-4d57-91ff-5a44a31ee765",
   "metadata": {},
   "outputs": [
    {
     "name": "stdout",
     "output_type": "stream",
     "text": [
      "Factorial of 5 is 120\n"
     ]
    }
   ],
   "source": [
    "def factorial(n):\n",
    "      \n",
    "    res = 1\n",
    "     \n",
    "    for i in range(2, n+1):\n",
    "        res *= i\n",
    "    return res\n",
    " # Driver Code\n",
    "num = 5\n",
    "print(\"Factorial of\", num, \"is\",\n",
    "factorial(num))"
   ]
  },
  {
   "cell_type": "code",
   "execution_count": 32,
   "id": "2e4712f7-13ca-42cf-8965-a26bde678513",
   "metadata": {},
   "outputs": [
    {
     "name": "stdout",
     "output_type": "stream",
     "text": [
      "Factorial is 120\n"
     ]
    }
   ],
   "source": [
    "\n",
    "n = 5\n",
    "f = 1\n",
    "while n > 1:\n",
    "    f *= n\n",
    "    n -= 1\n",
    "print(\"Factorial is\", f)"
   ]
  },
  {
   "cell_type": "code",
   "execution_count": 38,
   "id": "4a946e43-a664-478f-8af0-91a7c799ce24",
   "metadata": {},
   "outputs": [
    {
     "name": "stdin",
     "output_type": "stream",
     "text": [
      "Enter Number:  100\n"
     ]
    },
    {
     "name": "stdout",
     "output_type": "stream",
     "text": [
      "1\n"
     ]
    }
   ],
   "source": [
    "num = input(\"Enter Number: \")\n",
    "sum = 0\n",
    "\n",
    "for i in num:\n",
    "    sum = sum + int(i)\n",
    "\n",
    "print(sum)\n"
   ]
  },
  {
   "cell_type": "code",
   "execution_count": 37,
   "id": "6ca1ef35-5588-4ef1-be18-02fce516e127",
   "metadata": {},
   "outputs": [
    {
     "name": "stdout",
     "output_type": "stream",
     "text": [
      "15\n"
     ]
    }
   ],
   "source": [
    "num = 12345\n",
    "sum = 0\n",
    "\n",
    "while num!=0:\n",
    "\tdigit = int(num%10)\n",
    "\tsum += digit\n",
    "\tnum = num/10\n",
    "\n",
    "print(sum)\n"
   ]
  },
  {
   "cell_type": "markdown",
   "id": "4921dd6f-32d9-42f9-8a55-98ac191f81d0",
   "metadata": {},
   "source": [
    "# For Loop"
   ]
  },
  {
   "cell_type": "code",
   "execution_count": 39,
   "id": "193bd3d9-de8e-4d1c-871e-f5785f907da0",
   "metadata": {},
   "outputs": [
    {
     "name": "stdout",
     "output_type": "stream",
     "text": [
      "6.0\n",
      "17.0\n",
      "22.5\n",
      "10.5\n"
     ]
    }
   ],
   "source": [
    "for n in 12,34,45,21:\n",
    "    print(n/2)"
   ]
  },
  {
   "cell_type": "markdown",
   "id": "95a4f10c-b2aa-45b2-a84d-cc26a58f6b33",
   "metadata": {},
   "source": [
    "# range function"
   ]
  },
  {
   "cell_type": "code",
   "execution_count": 41,
   "id": "13668061-9ea4-4cde-9656-f63364dcf833",
   "metadata": {},
   "outputs": [
    {
     "data": {
      "text/plain": [
       "[5, 6, 7, 8, 9, 10, 11, 12, 13, 14, 15, 16, 17, 18, 19]"
      ]
     },
     "execution_count": 41,
     "metadata": {},
     "output_type": "execute_result"
    }
   ],
   "source": [
    "list(range(5,20))"
   ]
  },
  {
   "cell_type": "code",
   "execution_count": 42,
   "id": "aec51c06-66c5-4ec0-b30c-ffc29402fd5e",
   "metadata": {},
   "outputs": [
    {
     "data": {
      "text/plain": [
       "[5, 7, 9, 11, 13, 15, 17, 19]"
      ]
     },
     "execution_count": 42,
     "metadata": {},
     "output_type": "execute_result"
    }
   ],
   "source": [
    "list(range(5,20,2))"
   ]
  },
  {
   "cell_type": "markdown",
   "id": "df3e406f-6571-4990-894a-c3dbde261d30",
   "metadata": {},
   "source": [
    "# range(start,end+1,step)"
   ]
  },
  {
   "cell_type": "code",
   "execution_count": 44,
   "id": "44918e50-9c0e-4850-ad10-d06462b64ab1",
   "metadata": {},
   "outputs": [
    {
     "name": "stdout",
     "output_type": "stream",
     "text": [
      "1 2 3 4 5 6 7 8 9 10 "
     ]
    }
   ],
   "source": [
    "for n in range(1,11):\n",
    "    print(n, end = ' ')"
   ]
  },
  {
   "cell_type": "code",
   "execution_count": 48,
   "id": "11b37e9b-783e-4ae3-8fb2-75dc9f483fb5",
   "metadata": {},
   "outputs": [
    {
     "name": "stdout",
     "output_type": "stream",
     "text": [
      "Addition 100\n"
     ]
    }
   ],
   "source": [
    "# addition of odd no from 1 to 20 numbers\n",
    "\n",
    "add = 0\n",
    "for n in range(1,21,2):\n",
    "    add = add + n\n",
    "\n",
    "print('Addition', add)"
   ]
  },
  {
   "cell_type": "code",
   "execution_count": 51,
   "id": "b693f652-ed9d-49d1-ac75-7aecd4fb0d9a",
   "metadata": {},
   "outputs": [
    {
     "name": "stdout",
     "output_type": "stream",
     "text": [
      "Shrutika\n",
      "Shrutika\n",
      "Shrutika\n",
      "Shrutika\n",
      "Shrutika\n",
      "Shrutika\n",
      "Shrutika\n",
      "Shrutika\n",
      "Shrutika\n",
      "Shrutika\n"
     ]
    }
   ],
   "source": [
    "for n in range(10):\n",
    "    print(\"Shrutika\")"
   ]
  },
  {
   "cell_type": "code",
   "execution_count": 52,
   "id": "6fef0f68-db86-4339-af2d-5282fdf324d9",
   "metadata": {},
   "outputs": [
    {
     "name": "stdout",
     "output_type": "stream",
     "text": [
      "S\n",
      "h\n",
      "r\n",
      "u\n",
      "t\n",
      "i\n",
      "k\n",
      "a\n"
     ]
    }
   ],
   "source": [
    "for n in 'Shrutika':\n",
    "    print(n)"
   ]
  },
  {
   "cell_type": "code",
   "execution_count": 55,
   "id": "eab37ab0-d831-4dca-9df2-88966f35b1d2",
   "metadata": {},
   "outputs": [
    {
     "name": "stdin",
     "output_type": "stream",
     "text": [
      "Enter a number:  6\n"
     ]
    },
    {
     "name": "stdout",
     "output_type": "stream",
     "text": [
      "Factorial of the given number is:  720\n"
     ]
    }
   ],
   "source": [
    "num = int (input (\"Enter a number: \"))\n",
    "factorial = 1\n",
    "if num >= 1:\n",
    "    for i in range (1, num+1):\n",
    "        factorial=factorial *i\n",
    "print(\"Factorial of the given number is: \", factorial)"
   ]
  },
  {
   "cell_type": "code",
   "execution_count": 56,
   "id": "395bdd63-b772-4b96-8729-23b645c4538c",
   "metadata": {},
   "outputs": [],
   "source": [
    "# break statement\n"
   ]
  },
  {
   "cell_type": "code",
   "execution_count": 59,
   "id": "057f1cb4-91ad-4aea-9be5-c75534c8db98",
   "metadata": {},
   "outputs": [
    {
     "name": "stdout",
     "output_type": "stream",
     "text": [
      "1\n",
      "2\n",
      "3\n",
      "4\n"
     ]
    }
   ],
   "source": [
    "for n in range(1,10):\n",
    "    if n == 5:\n",
    "        break\n",
    "    print(n)"
   ]
  },
  {
   "cell_type": "code",
   "execution_count": 61,
   "id": "c31b5ef5-eb5d-4d27-9177-6a37c5d6bdea",
   "metadata": {},
   "outputs": [
    {
     "name": "stdout",
     "output_type": "stream",
     "text": [
      "0\n",
      "1\n",
      "2\n",
      "3\n",
      "4\n",
      "5\n"
     ]
    }
   ],
   "source": [
    "count = 0\n",
    "while count < 10:\n",
    "    print(count)\n",
    "    if count == 5:\n",
    "        break\n",
    "    count += 1"
   ]
  },
  {
   "cell_type": "code",
   "execution_count": 62,
   "id": "5c19428d-6f6d-48b5-bea9-fc2d144aec83",
   "metadata": {},
   "outputs": [],
   "source": [
    "# continue\n"
   ]
  },
  {
   "cell_type": "code",
   "execution_count": 65,
   "id": "de602235-02ed-4d23-94ed-d172ddbd1842",
   "metadata": {},
   "outputs": [
    {
     "name": "stdout",
     "output_type": "stream",
     "text": [
      "1\n",
      "3\n",
      "5\n",
      "7\n",
      "9\n",
      "11\n"
     ]
    }
   ],
   "source": [
    "for i in range(1,13):\n",
    "    if i % 2 == 0:\n",
    "      continue \n",
    "    print(i)\n"
   ]
  },
  {
   "cell_type": "code",
   "execution_count": 66,
   "id": "d2cc2bf1-7a4c-4aec-9f14-22d9bc6c83bf",
   "metadata": {},
   "outputs": [],
   "source": [
    "# pass"
   ]
  },
  {
   "cell_type": "code",
   "execution_count": 67,
   "id": "e6d88f3c-0fd6-4744-aca1-848bf3dbb3dd",
   "metadata": {},
   "outputs": [],
   "source": [
    "num = 5\n",
    "if num > 1:\n",
    "    pass"
   ]
  },
  {
   "cell_type": "code",
   "execution_count": 68,
   "id": "3daf42bb-916c-4979-b056-f614f18374e6",
   "metadata": {},
   "outputs": [
    {
     "name": "stdout",
     "output_type": "stream",
     "text": [
      "   * \n",
      "  * * \n",
      " * * * \n"
     ]
    }
   ],
   "source": [
    "for i in range(3):\n",
    "    for j in range(3, i, -1):\n",
    "        print(\" \", end=\"\")\n",
    "    for k in range(i + 1):\n",
    "        print(\"* \", end=\"\")\n",
    "    print()"
   ]
  },
  {
   "cell_type": "code",
   "execution_count": 11,
   "id": "a80e52f9-69ca-4634-aade-a426e6acbdaf",
   "metadata": {},
   "outputs": [
    {
     "name": "stdout",
     "output_type": "stream",
     "text": [
      "* \n",
      "* * \n",
      "* * * \n"
     ]
    }
   ],
   "source": [
    "row = 3   \n",
    "for i in range(1, row + 1):   \n",
    "      for j in range(i):    \n",
    "          print('*', end= ' ')  \n",
    "      print()"
   ]
  },
  {
   "cell_type": "code",
   "execution_count": null,
   "id": "dcc522e7-cc15-4121-a0cc-6d83caa7472c",
   "metadata": {},
   "outputs": [],
   "source": []
  }
 ],
 "metadata": {
  "kernelspec": {
   "display_name": "Python 3 (ipykernel)",
   "language": "python",
   "name": "python3"
  },
  "language_info": {
   "codemirror_mode": {
    "name": "ipython",
    "version": 3
   },
   "file_extension": ".py",
   "mimetype": "text/x-python",
   "name": "python",
   "nbconvert_exporter": "python",
   "pygments_lexer": "ipython3",
   "version": "3.11.7"
  }
 },
 "nbformat": 4,
 "nbformat_minor": 5
}
