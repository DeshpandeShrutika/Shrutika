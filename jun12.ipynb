{
 "cells": [
  {
   "cell_type": "code",
   "execution_count": 1,
   "id": "0c84fe50-9a98-4d7a-938b-65ac18670cab",
   "metadata": {},
   "outputs": [],
   "source": [
    "class Employee():   # creating a class\n",
    "    pass"
   ]
  },
  {
   "cell_type": "code",
   "execution_count": 2,
   "id": "e28c6c17-62a0-4594-8bfd-59215a77203b",
   "metadata": {},
   "outputs": [],
   "source": [
    "emp1 = Employee()     # creating an instance of class\n",
    "emp2 = Employee()"
   ]
  },
  {
   "cell_type": "code",
   "execution_count": 3,
   "id": "a045b3f9-692f-4db7-8916-d0237988daa2",
   "metadata": {},
   "outputs": [
    {
     "name": "stdout",
     "output_type": "stream",
     "text": [
      "<__main__.Employee object at 0x000001E264A288D0>\n",
      "<__main__.Employee object at 0x000001E264A3D610>\n"
     ]
    }
   ],
   "source": [
    "print(emp1)\n",
    "print(emp2)"
   ]
  },
  {
   "cell_type": "code",
   "execution_count": 8,
   "id": "6dc8ac6c-c64b-4deb-8fac-b06e3f5519ab",
   "metadata": {},
   "outputs": [],
   "source": [
    "# instance variable\n",
    "\n",
    "emp1.first = 'Shrutika'\n",
    "emp1.last = 'Deshpande'\n",
    "emp1.salary = 51000\n",
    "\n",
    "emp2.first = 'Sanika'\n",
    "emp2.last = 'Jagtap'\n",
    "emp2.salary = 50000"
   ]
  },
  {
   "cell_type": "code",
   "execution_count": 9,
   "id": "5c2a2101-2f81-49b0-ab86-969234b61a1f",
   "metadata": {},
   "outputs": [
    {
     "name": "stdout",
     "output_type": "stream",
     "text": [
      "Shrutika\n"
     ]
    }
   ],
   "source": [
    "print(emp1.first)"
   ]
  },
  {
   "cell_type": "code",
   "execution_count": 10,
   "id": "807ede7d-f137-4bdc-8ee8-6a445e14b92e",
   "metadata": {},
   "outputs": [
    {
     "name": "stdout",
     "output_type": "stream",
     "text": [
      "50000\n"
     ]
    }
   ],
   "source": [
    "print(emp2.salary)"
   ]
  },
  {
   "cell_type": "code",
   "execution_count": 27,
   "id": "dc7acb7d-50d1-4426-bca4-b8cbbf708591",
   "metadata": {},
   "outputs": [],
   "source": [
    "class Employee():     # init variable\n",
    "\n",
    "    def __init__ (self, first, last, salary):\n",
    "        self.first = first\n",
    "        self.last = last\n",
    "        self.salary = salary\n",
    "        \n",
    "    def show(self):\n",
    "        print(self.first + ' ' + 'ok')"
   ]
  },
  {
   "cell_type": "code",
   "execution_count": 28,
   "id": "b9e953fa-1f50-49de-bff4-093e2ba8855c",
   "metadata": {},
   "outputs": [],
   "source": [
    "emp1 = Employee('Shrutika', 'Deshpande', 51000)"
   ]
  },
  {
   "cell_type": "code",
   "execution_count": 29,
   "id": "e4fc6f40-e758-4028-b381-28f32cb2c249",
   "metadata": {},
   "outputs": [
    {
     "name": "stdout",
     "output_type": "stream",
     "text": [
      "Shrutika\n"
     ]
    }
   ],
   "source": [
    "print(emp1.first)"
   ]
  },
  {
   "cell_type": "code",
   "execution_count": 30,
   "id": "096f6159-787a-4ad0-9ad1-1ddf483f3872",
   "metadata": {},
   "outputs": [
    {
     "name": "stdout",
     "output_type": "stream",
     "text": [
      "Deshpande\n"
     ]
    }
   ],
   "source": [
    "print(emp1.last)"
   ]
  },
  {
   "cell_type": "code",
   "execution_count": 31,
   "id": "c3bff606-2ee7-440f-8c21-b4132f8cb9a9",
   "metadata": {},
   "outputs": [
    {
     "name": "stdout",
     "output_type": "stream",
     "text": [
      "51000\n"
     ]
    }
   ],
   "source": [
    "print(emp1.salary)"
   ]
  },
  {
   "cell_type": "code",
   "execution_count": 32,
   "id": "f6250f14-6c75-42e5-8bea-a5ba2967eebc",
   "metadata": {},
   "outputs": [
    {
     "name": "stdout",
     "output_type": "stream",
     "text": [
      "Shrutika ok\n"
     ]
    }
   ],
   "source": [
    "emp1.show()"
   ]
  },
  {
   "cell_type": "code",
   "execution_count": 7,
   "id": "3aef451f-af2f-47a7-a7f9-6faf669441b5",
   "metadata": {},
   "outputs": [],
   "source": [
    "# Encapsulation\n",
    "\n",
    "class Employee1():     \n",
    "\n",
    "    def __init__ (self, first, last, salary):    #initial method\n",
    "        self.first = first\n",
    "        self.last = last\n",
    "        self.__salary = salary    # private variable\n",
    "        \n",
    "    def show(self):\n",
    "        print(self.__salary)"
   ]
  },
  {
   "cell_type": "code",
   "execution_count": 8,
   "id": "4741febf-1a1c-4dfc-a9ba-8c6c2dcf37a7",
   "metadata": {},
   "outputs": [],
   "source": [
    "emp1 = Employee1('Shrutika', 'Deshpande', 51000)\n",
    "emp2 = Employee1('Saniya', 'Deshmukh', 50000)"
   ]
  },
  {
   "cell_type": "code",
   "execution_count": 9,
   "id": "db41b53a-da64-446d-ba18-b6dcb22ff8cf",
   "metadata": {},
   "outputs": [
    {
     "name": "stdout",
     "output_type": "stream",
     "text": [
      "Shrutika\n"
     ]
    }
   ],
   "source": [
    "print(emp1.first)"
   ]
  },
  {
   "cell_type": "code",
   "execution_count": 10,
   "id": "d5d98aad-4515-4619-8949-847ef606d56e",
   "metadata": {},
   "outputs": [
    {
     "ename": "AttributeError",
     "evalue": "'Employee1' object has no attribute 'salary'",
     "output_type": "error",
     "traceback": [
      "\u001b[1;31m---------------------------------------------------------------------------\u001b[0m",
      "\u001b[1;31mAttributeError\u001b[0m                            Traceback (most recent call last)",
      "Cell \u001b[1;32mIn[10], line 1\u001b[0m\n\u001b[1;32m----> 1\u001b[0m \u001b[38;5;28mprint\u001b[39m(emp1\u001b[38;5;241m.\u001b[39msalary)\n",
      "\u001b[1;31mAttributeError\u001b[0m: 'Employee1' object has no attribute 'salary'"
     ]
    }
   ],
   "source": [
    "print(emp1.salary)"
   ]
  },
  {
   "cell_type": "code",
   "execution_count": 61,
   "id": "2b29a8ca-a397-414b-8903-69248dac2ac2",
   "metadata": {},
   "outputs": [
    {
     "name": "stdout",
     "output_type": "stream",
     "text": [
      "51000\n"
     ]
    }
   ],
   "source": [
    "emp1.show()"
   ]
  },
  {
   "cell_type": "code",
   "execution_count": 62,
   "id": "269da7e5-194e-4eff-9c0c-3188aa3ae51c",
   "metadata": {},
   "outputs": [],
   "source": [
    "# inheritance\n",
    "\n",
    "class Emp2(Employee1):      # emp2 => subclass , # Employee1 => superclass\n",
    "    pass"
   ]
  },
  {
   "cell_type": "code",
   "execution_count": 65,
   "id": "105cf1ec-923d-46c5-9dd4-9f5ca200ef76",
   "metadata": {},
   "outputs": [],
   "source": [
    "emp3 = Emp2('neha','kulkarni', 55000)"
   ]
  },
  {
   "cell_type": "code",
   "execution_count": 66,
   "id": "a78959d0-f167-41b8-9eae-67c2bf5abf1c",
   "metadata": {},
   "outputs": [
    {
     "name": "stdout",
     "output_type": "stream",
     "text": [
      "55000\n"
     ]
    }
   ],
   "source": [
    "emp3.show()"
   ]
  },
  {
   "cell_type": "code",
   "execution_count": 13,
   "id": "6ce07607-eaaa-44dd-8dac-9059218c3704",
   "metadata": {},
   "outputs": [],
   "source": [
    "'''\n",
    "create a class called person\n",
    "attributes=>name,age,city,...(make use of dafault parameters also)\n",
    "create a mothod which will show all the info of person\n",
    "'''\n",
    "class person():\n",
    "    \n",
    "    def __init__(self, n, a = 25):\n",
    "        self.name = n\n",
    "        self.age = a\n",
    "\n",
    "    def info(self):\n",
    "        print('name', self.name)\n",
    "        print('age', self.age)"
   ]
  },
  {
   "cell_type": "code",
   "execution_count": 14,
   "id": "5d9109a3-90ef-41d6-9d6c-ddb662095172",
   "metadata": {},
   "outputs": [],
   "source": [
    "p1 = person('John', 21)"
   ]
  },
  {
   "cell_type": "code",
   "execution_count": 1,
   "id": "374272ec-1b95-4452-9d54-d1e553d143bf",
   "metadata": {},
   "outputs": [
    {
     "ename": "NameError",
     "evalue": "name 'person' is not defined",
     "output_type": "error",
     "traceback": [
      "\u001b[1;31m---------------------------------------------------------------------------\u001b[0m",
      "\u001b[1;31mNameError\u001b[0m                                 Traceback (most recent call last)",
      "Cell \u001b[1;32mIn[1], line 1\u001b[0m\n\u001b[1;32m----> 1\u001b[0m p2 \u001b[38;5;241m=\u001b[39m person(\u001b[38;5;124m'\u001b[39m\u001b[38;5;124mneha\u001b[39m\u001b[38;5;124m'\u001b[39m, \u001b[38;5;241m30\u001b[39m)\n",
      "\u001b[1;31mNameError\u001b[0m: name 'person' is not defined"
     ]
    }
   ],
   "source": [
    "p2 = person('neha', 30)"
   ]
  },
  {
   "cell_type": "code",
   "execution_count": null,
   "id": "6521b99e-879d-4598-9b4b-6780f1066b2b",
   "metadata": {},
   "outputs": [],
   "source": []
  }
 ],
 "metadata": {
  "kernelspec": {
   "display_name": "Python 3 (ipykernel)",
   "language": "python",
   "name": "python3"
  },
  "language_info": {
   "codemirror_mode": {
    "name": "ipython",
    "version": 3
   },
   "file_extension": ".py",
   "mimetype": "text/x-python",
   "name": "python",
   "nbconvert_exporter": "python",
   "pygments_lexer": "ipython3",
   "version": "3.11.7"
  }
 },
 "nbformat": 4,
 "nbformat_minor": 5
}
