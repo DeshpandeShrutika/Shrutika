{
 "cells": [
  {
   "cell_type": "code",
   "execution_count": 4,
   "id": "45b7879f-a26b-4684-8c18-113eeae7cdac",
   "metadata": {},
   "outputs": [],
   "source": [
    "f = open('maha.txt', 'r')"
   ]
  },
  {
   "cell_type": "code",
   "execution_count": 5,
   "id": "db314630-7131-44ec-a4da-1516efb99e7b",
   "metadata": {},
   "outputs": [
    {
     "name": "stdout",
     "output_type": "stream",
     "text": [
      "maha.txt\n"
     ]
    }
   ],
   "source": [
    "print(f.name)"
   ]
  },
  {
   "cell_type": "code",
   "execution_count": 6,
   "id": "a3897349-5011-4b09-9890-a2d7580fad2c",
   "metadata": {},
   "outputs": [
    {
     "name": "stdout",
     "output_type": "stream",
     "text": [
      "{\n",
      " \"cells\": [\n",
      "  {\n",
      "   \"cell_type\": \"code\",\n",
      "   \"execution_count\": null,\n",
      "   \"id\": \"f5a4fe68-2b2e-4705-b547-7901dcf9f620\",\n",
      "   \"metadata\": {},\n",
      "   \"outputs\": [],\n",
      "   \"source\": []\n",
      "  }\n",
      " ],\n",
      " \"metadata\": {\n",
      "  \"kernelspec\": {\n",
      "   \"display_name\": \"Python 3 (ipykernel)\",\n",
      "   \"language\": \"python\",\n",
      "   \"name\": \"python3\"\n",
      "  },\n",
      "  \"language_info\": {\n",
      "   \"codemirror_mode\": {\n",
      "    \"name\": \"ipython\",\n",
      "    \"version\": 3\n",
      "   },\n",
      "   \"file_extension\": \".py\",\n",
      "   \"mimetype\": \"text/x-python\",\n",
      "   \"name\": \"python\",\n",
      "   \"nbconvert_exporter\": \"python\",\n",
      "   \"pygments_lexer\": \"ipython3\",\n",
      "   \"version\": \"3.11.7\"\n",
      "  }\n",
      " },\n",
      " \"nbformat\": 4,\n",
      " \"nbformat_minor\": 5\n",
      "}\n",
      "\n"
     ]
    }
   ],
   "source": [
    "print(f.read())"
   ]
  },
  {
   "cell_type": "code",
   "execution_count": 7,
   "id": "8128d05a-557b-49eb-bb1c-df68c0fe87e1",
   "metadata": {},
   "outputs": [
    {
     "name": "stdout",
     "output_type": "stream",
     "text": [
      "r\n"
     ]
    }
   ],
   "source": [
    "print(f.mode)"
   ]
  },
  {
   "cell_type": "code",
   "execution_count": 8,
   "id": "6cd353c0-48a9-48b4-a407-a94ef29ad7c6",
   "metadata": {},
   "outputs": [],
   "source": [
    "f.close()"
   ]
  },
  {
   "cell_type": "code",
   "execution_count": 9,
   "id": "47ebdeda-1351-4b09-a242-bb077920d1ba",
   "metadata": {},
   "outputs": [
    {
     "data": {
      "text/plain": [
       "True"
      ]
     },
     "execution_count": 9,
     "metadata": {},
     "output_type": "execute_result"
    }
   ],
   "source": [
    "f.closed"
   ]
  },
  {
   "cell_type": "code",
   "execution_count": 10,
   "id": "b6cc146d-740e-4fa3-8068-2a2dc7e34afa",
   "metadata": {},
   "outputs": [],
   "source": [
    "# open with context manager\n",
    "\n",
    "with open('maha.txt', 'r') as f:\n",
    "    pass"
   ]
  },
  {
   "cell_type": "code",
   "execution_count": 11,
   "id": "97787471-2b1d-426a-aec1-5a53fdc50c70",
   "metadata": {},
   "outputs": [
    {
     "data": {
      "text/plain": [
       "True"
      ]
     },
     "execution_count": 11,
     "metadata": {},
     "output_type": "execute_result"
    }
   ],
   "source": [
    "f.closed"
   ]
  },
  {
   "cell_type": "code",
   "execution_count": 12,
   "id": "d882df7b-7d4d-4b20-b00b-fe4891e19e2f",
   "metadata": {},
   "outputs": [
    {
     "name": "stdout",
     "output_type": "stream",
     "text": [
      "{\n",
      " \"cells\": [\n",
      "  {\n",
      "   \"cell_type\": \"code\",\n",
      "   \"execution_count\": null,\n",
      "   \"id\": \"f5a4fe68-2b2e-4705-b547-7901dcf9f620\",\n",
      "   \"metadata\": {},\n",
      "   \"outputs\": [],\n",
      "   \"source\": []\n",
      "  }\n",
      " ],\n",
      " \"metadata\": {\n",
      "  \"kernelspec\": {\n",
      "   \"display_name\": \"Python 3 (ipykernel)\",\n",
      "   \"language\": \"python\",\n",
      "   \"name\": \"python3\"\n",
      "  },\n",
      "  \"language_info\": {\n",
      "   \"codemirror_mode\": {\n",
      "    \"name\": \"ipython\",\n",
      "    \"version\": 3\n",
      "   },\n",
      "   \"file_extension\": \".py\",\n",
      "   \"mimetype\": \"text/x-python\",\n",
      "   \"name\": \"python\",\n",
      "   \"nbconvert_exporter\": \"python\",\n",
      "   \"pygments_lexer\": \"ipython3\",\n",
      "   \"version\": \"3.11.7\"\n",
      "  }\n",
      " },\n",
      " \"nbformat\": 4,\n",
      " \"nbformat_minor\": 5\n",
      "}\n",
      "\n"
     ]
    }
   ],
   "source": [
    "with open('maha.txt', 'r') as f:\n",
    "    content = f.read()\n",
    "    print(content)"
   ]
  },
  {
   "cell_type": "code",
   "execution_count": 13,
   "id": "d3edded7-f17a-4417-9530-1e94145a76c3",
   "metadata": {},
   "outputs": [
    {
     "name": "stdout",
     "output_type": "stream",
     "text": [
      "['{\\n', ' \"cells\": [\\n', '  {\\n', '   \"cell_type\": \"code\",\\n', '   \"execution_count\": null,\\n', '   \"id\": \"f5a4fe68-2b2e-4705-b547-7901dcf9f620\",\\n', '   \"metadata\": {},\\n', '   \"outputs\": [],\\n', '   \"source\": []\\n', '  }\\n', ' ],\\n', ' \"metadata\": {\\n', '  \"kernelspec\": {\\n', '   \"display_name\": \"Python 3 (ipykernel)\",\\n', '   \"language\": \"python\",\\n', '   \"name\": \"python3\"\\n', '  },\\n', '  \"language_info\": {\\n', '   \"codemirror_mode\": {\\n', '    \"name\": \"ipython\",\\n', '    \"version\": 3\\n', '   },\\n', '   \"file_extension\": \".py\",\\n', '   \"mimetype\": \"text/x-python\",\\n', '   \"name\": \"python\",\\n', '   \"nbconvert_exporter\": \"python\",\\n', '   \"pygments_lexer\": \"ipython3\",\\n', '   \"version\": \"3.11.7\"\\n', '  }\\n', ' },\\n', ' \"nbformat\": 4,\\n', ' \"nbformat_minor\": 5\\n', '}\\n']\n"
     ]
    }
   ],
   "source": [
    "with open('maha.txt', 'r') as f:\n",
    "    content = f.readlines()\n",
    "    print(content)"
   ]
  },
  {
   "cell_type": "code",
   "execution_count": 14,
   "id": "cf68cfee-cdff-4b83-b5a9-00c86b519882",
   "metadata": {},
   "outputs": [
    {
     "name": "stdout",
     "output_type": "stream",
     "text": [
      "['this is first line \\n', 'this is second line\\n', 'this is third line\\n', 'this is fourth line']\n"
     ]
    }
   ],
   "source": [
    "with open('test1.txt', 'r') as f:\n",
    "    content = f.readlines()\n",
    "    print(content)"
   ]
  },
  {
   "cell_type": "code",
   "execution_count": 15,
   "id": "d513c76a-c0ad-495a-990e-0109abf6df05",
   "metadata": {},
   "outputs": [
    {
     "name": "stdout",
     "output_type": "stream",
     "text": [
      "this is first line \n",
      "\n"
     ]
    }
   ],
   "source": [
    "with open('test1.txt', 'r') as f:\n",
    "    content = f.readline()\n",
    "    print(content)"
   ]
  },
  {
   "cell_type": "code",
   "execution_count": 24,
   "id": "3f9ed683-021a-453a-bc94-6b8faed01cc6",
   "metadata": {},
   "outputs": [
    {
     "name": "stdout",
     "output_type": "stream",
     "text": [
      "this is first line \n",
      "this is second line\n",
      "\n"
     ]
    }
   ],
   "source": [
    "with open('test1.txt', 'r') as f:\n",
    "    content = f.readline()\n",
    "    print(content, end = '') \n",
    "\n",
    "    content = f.readline()\n",
    "    print(content)"
   ]
  },
  {
   "cell_type": "code",
   "execution_count": 25,
   "id": "0cbbdd9b-5459-41d0-8943-07db3bd4a47e",
   "metadata": {},
   "outputs": [
    {
     "name": "stdout",
     "output_type": "stream",
     "text": [
      "this is first line \n",
      "this is second line\n",
      "this is third line\n",
      "this is fourth line"
     ]
    }
   ],
   "source": [
    "with open('test1.txt', 'r') as f:\n",
    "    for line in f:\n",
    "        print(line, end = '')\n"
   ]
  },
  {
   "cell_type": "code",
   "execution_count": 26,
   "id": "07fe9163-67ab-4572-a4ce-9bc3cd485866",
   "metadata": {},
   "outputs": [
    {
     "name": "stdout",
     "output_type": "stream",
     "text": [
      "thi\n"
     ]
    }
   ],
   "source": [
    "# read the 3 character\n",
    "\n",
    "with open('test1.txt', 'r') as f:\n",
    "    content = f.read(3)\n",
    "    print(content) \n"
   ]
  },
  {
   "cell_type": "code",
   "execution_count": 35,
   "id": "1eeacc58-cc84-46d9-9d33-afb7d5a00195",
   "metadata": {},
   "outputs": [
    {
     "name": "stdout",
     "output_type": "stream",
     "text": [
      "this *is fi*rst l*ine \n",
      "*this *is se*cond *line\n",
      "*this *is th*ird l*ine\n",
      "t*his i*s fou*rth l*ine*"
     ]
    }
   ],
   "source": [
    "# use loop to read entire file. 5 characters at a time\n",
    "\n",
    "with open('test1.txt', 'r') as f:\n",
    "    size = 5\n",
    "    content = f.read(size)\n",
    "    while len(content) > 0:\n",
    "        print(content, end = '*')\n",
    "        content = f.read(size)"
   ]
  },
  {
   "cell_type": "code",
   "execution_count": 38,
   "id": "a54977df-8687-4baf-ab8a-294c58e997ba",
   "metadata": {},
   "outputs": [
    {
     "name": "stdout",
     "output_type": "stream",
     "text": [
      "this \n",
      "this \n"
     ]
    }
   ],
   "source": [
    "# in the 2 nd phase start from begining\n",
    "\n",
    "with open('test1.txt', 'r') as f:\n",
    "    size = 5\n",
    "    content = f.read(size)\n",
    "    print(content)\n",
    "\n",
    "    f.seek(0)  # will start from the begining\n",
    "\n",
    "    content = f.read(size)\n",
    "    print(content)\n",
    " "
   ]
  },
  {
   "cell_type": "markdown",
   "id": "b47d2f7e-fb1f-4e36-b583-ce199ac0f20b",
   "metadata": {},
   "source": [
    "# Write"
   ]
  },
  {
   "cell_type": "code",
   "execution_count": 39,
   "id": "c33ae89a-6b04-47e1-83fb-39f1f38315d6",
   "metadata": {},
   "outputs": [],
   "source": [
    "with open('write.txt', 'w') as w:\n",
    "    pass"
   ]
  },
  {
   "cell_type": "code",
   "execution_count": 40,
   "id": "567700b6-dc0d-4974-9cf5-635cdfb8d422",
   "metadata": {},
   "outputs": [],
   "source": [
    "with open('write.txt', 'w') as w:\n",
    "    w.write('My name is shrutika')"
   ]
  },
  {
   "cell_type": "code",
   "execution_count": 45,
   "id": "78c096ae-b13e-48f9-81dc-3597f281d851",
   "metadata": {},
   "outputs": [],
   "source": [
    "with open('write.txt', 'w') as w:\n",
    "    w.write('My name is shrutika')\n",
    "    w.seek(0)\n",
    "    w.write('AAAA')\n",
    "    "
   ]
  },
  {
   "cell_type": "code",
   "execution_count": 46,
   "id": "ff4b3481-b576-4a9f-b8a5-f030f5ef675e",
   "metadata": {},
   "outputs": [],
   "source": [
    "# create a new file which will be copy of maha.txt\n",
    "\n",
    "with open('maha.txt', 'r') as rf:\n",
    "    with open('maha_copy.txt', 'w') as w:\n",
    "        for line in rf:\n",
    "            w.write(line)"
   ]
  },
  {
   "cell_type": "code",
   "execution_count": 48,
   "id": "1da0099a-7ee5-473c-92ca-8d7054600794",
   "metadata": {},
   "outputs": [
    {
     "name": "stdout",
     "output_type": "stream",
     "text": [
      "File is not there\n"
     ]
    }
   ],
   "source": [
    "# exception handling\n",
    "try:\n",
    "    f = open('all.txt')\n",
    "except Exception:\n",
    "    print('File is not there')"
   ]
  },
  {
   "cell_type": "code",
   "execution_count": 54,
   "id": "6198d2e4-4a73-4650-ba36-7abae71325e8",
   "metadata": {},
   "outputs": [
    {
     "name": "stdout",
     "output_type": "stream",
     "text": [
      "File is not there\n"
     ]
    }
   ],
   "source": [
    "try:\n",
    "    f = open('test1.txt')\n",
    "    var = var1\n",
    "except Exception:\n",
    "    print('File is not there')"
   ]
  },
  {
   "cell_type": "code",
   "execution_count": 59,
   "id": "16182015-fa4a-466a-a752-58ca58df13aa",
   "metadata": {},
   "outputs": [
    {
     "ename": "NameError",
     "evalue": "name 'FileNotFountError' is not defined",
     "output_type": "error",
     "traceback": [
      "\u001b[1;31m---------------------------------------------------------------------------\u001b[0m",
      "\u001b[1;31mNameError\u001b[0m                                 Traceback (most recent call last)",
      "Cell \u001b[1;32mIn[59], line 3\u001b[0m\n\u001b[0;32m      2\u001b[0m     f \u001b[38;5;241m=\u001b[39m \u001b[38;5;28mopen\u001b[39m(\u001b[38;5;124m'\u001b[39m\u001b[38;5;124mtest1.txt\u001b[39m\u001b[38;5;124m'\u001b[39m)\n\u001b[1;32m----> 3\u001b[0m     var \u001b[38;5;241m=\u001b[39m var\n\u001b[0;32m      4\u001b[0m \u001b[38;5;28;01mexcept\u001b[39;00m FileNotFountError:\n",
      "\u001b[1;31mNameError\u001b[0m: name 'var' is not defined",
      "\nDuring handling of the above exception, another exception occurred:\n",
      "\u001b[1;31mNameError\u001b[0m                                 Traceback (most recent call last)",
      "Cell \u001b[1;32mIn[59], line 4\u001b[0m\n\u001b[0;32m      2\u001b[0m     f \u001b[38;5;241m=\u001b[39m \u001b[38;5;28mopen\u001b[39m(\u001b[38;5;124m'\u001b[39m\u001b[38;5;124mtest1.txt\u001b[39m\u001b[38;5;124m'\u001b[39m)\n\u001b[0;32m      3\u001b[0m     var \u001b[38;5;241m=\u001b[39m var\n\u001b[1;32m----> 4\u001b[0m \u001b[38;5;28;01mexcept\u001b[39;00m FileNotFountError:\n\u001b[0;32m      5\u001b[0m     \u001b[38;5;28mprint\u001b[39m(\u001b[38;5;124m'\u001b[39m\u001b[38;5;124mFile is not there\u001b[39m\u001b[38;5;124m'\u001b[39m)\n\u001b[0;32m      6\u001b[0m \u001b[38;5;28;01mexcept\u001b[39;00m \u001b[38;5;167;01mNameError\u001b[39;00m:\n",
      "\u001b[1;31mNameError\u001b[0m: name 'FileNotFountError' is not defined"
     ]
    }
   ],
   "source": [
    "try:\n",
    "    f = open('test1.txt')\n",
    "    var = var\n",
    "except FileNotFountError:\n",
    "    print('File is not there')\n",
    "except NameError:\n",
    "    print('Something went wrong')"
   ]
  },
  {
   "cell_type": "code",
   "execution_count": null,
   "id": "a5a07718-6cac-4731-83f2-fe26c65a461f",
   "metadata": {},
   "outputs": [],
   "source": []
  },
  {
   "cell_type": "code",
   "execution_count": null,
   "id": "f6b94f0c-7bd3-4496-b182-1a505033d665",
   "metadata": {},
   "outputs": [],
   "source": [
    "\n"
   ]
  },
  {
   "cell_type": "code",
   "execution_count": null,
   "id": "829f7f02-6e2b-4a1f-ad30-355534879dd5",
   "metadata": {},
   "outputs": [],
   "source": []
  },
  {
   "cell_type": "code",
   "execution_count": null,
   "id": "c480bb26-01d5-4aa1-9000-94e1c6555c6f",
   "metadata": {},
   "outputs": [],
   "source": []
  }
 ],
 "metadata": {
  "kernelspec": {
   "display_name": "Python 3 (ipykernel)",
   "language": "python",
   "name": "python3"
  },
  "language_info": {
   "codemirror_mode": {
    "name": "ipython",
    "version": 3
   },
   "file_extension": ".py",
   "mimetype": "text/x-python",
   "name": "python",
   "nbconvert_exporter": "python",
   "pygments_lexer": "ipython3",
   "version": "3.11.7"
  }
 },
 "nbformat": 4,
 "nbformat_minor": 5
}
