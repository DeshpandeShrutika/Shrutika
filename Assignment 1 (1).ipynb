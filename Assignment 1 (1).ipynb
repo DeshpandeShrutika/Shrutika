{
 "cells": [
  {
   "cell_type": "code",
   "execution_count": 6,
   "id": "bd80a793-a337-408c-9937-b10378d9fda2",
   "metadata": {},
   "outputs": [
    {
     "name": "stdin",
     "output_type": "stream",
     "text": [
      "Enter the Number of Days:  455\n"
     ]
    },
    {
     "name": "stdout",
     "output_type": "stream",
     "text": [
      "Total Number of Year(s): 1\n",
      "Total Number of Week(s): 12\n",
      "Total Number of Day(s): 6\n"
     ]
    }
   ],
   "source": [
    "# 1 Write a program to convert specified days into years, weeks and days.\n",
    "\n",
    "num = int(input(\"Enter the Number of Days: \"))\n",
    "\n",
    "year = int(num/365)\n",
    "week = int((num%365)/7)\n",
    "days = int((num%365)%7)\n",
    "\n",
    "print(\"Total Number of Year(s):\" , year)\n",
    "print(\"Total Number of Week(s):\" , week)\n",
    "print(\"Total Number of Day(s):\" , days)"
   ]
  },
  {
   "cell_type": "code",
   "execution_count": 10,
   "id": "81aaeed1-a04b-4e56-a2e8-d5bbde57c236",
   "metadata": {},
   "outputs": [
    {
     "name": "stdin",
     "output_type": "stream",
     "text": [
      "Enter the Basic Salary :-  3000\n"
     ]
    },
    {
     "name": "stdout",
     "output_type": "stream",
     "text": [
      "Gross Salary of Employee is :-  6000.0\n"
     ]
    }
   ],
   "source": [
    "# 2 Write a Python program to input basic Python salary of an employee and calculate its Gross salary according to following:\n",
    "\n",
    "basic = float(input(\"Enter the Basic Salary :- \"))\n",
    "if basic <=10000:\n",
    "    da  = basic  * 0.8\n",
    "    hra = basic  * 0.2\n",
    "elif basic <=20000:\n",
    "    da =  basic *  0.9\n",
    "    hra = basic *  0.3\n",
    "else:\n",
    "    da =  basic * 0.95\n",
    "    hra = basic * 0.35\n",
    "gross = basic + hra + da\n",
    "print(\"Gross Salary of Employee is :- \",gross)"
   ]
  },
  {
   "cell_type": "code",
   "execution_count": 4,
   "id": "a0cba388-fd5a-4854-9255-34d27b3d6d27",
   "metadata": {},
   "outputs": [
    {
     "name": "stdin",
     "output_type": "stream",
     "text": [
      " Enter units:-  56\n"
     ]
    },
    {
     "name": "stdout",
     "output_type": "stream",
     "text": [
      "Enter units:-  56\n",
      "51.52\n"
     ]
    }
   ],
   "source": [
    "# 3 Write a Python program to input electricity unit charges and calculate total electricity bill according to the given condition \n",
    "#For first 50 units Rs. 0.50/unit\n",
    "#For next 100 units Rs. 0.75/unit\n",
    "#For next 100 units Rs. 1.25/unit\n",
    "#For unit above 250 Rs. 1.50/unit\n",
    "#An additional surcharge of 17% is added to the bill\n",
    "Electric_Units = int(input(\" Enter units:- \"))\n",
    "print(\"Enter units:- \" , Electric_Units)\n",
    "\n",
    "if Electric_Units <= 50:\n",
    "    T_Bill = Electric_Units * 0.50 + 0.17 * Electric_Units\n",
    "    print(T_Bill)\n",
    "elif Electric_Units <= 150:\n",
    "    T_Bill = Electric_Units * 0.75 + 0.17 * Electric_Units\n",
    "    print(T_Bill)\n",
    "elif Electric_Units <= 250:\n",
    "    T_Bill = Electric_Units * 1.25 + 0.17 * Electric_Units\n",
    "    print(T_Bill)\n",
    "else:\n",
    "    if Electric_Units <= 250:\n",
    "        T_Bill = Electric_Units * 1.50 + 0.17 * Electric_Units\n",
    "        print(T_Bill)"
   ]
  },
  {
   "cell_type": "code",
   "execution_count": 15,
   "id": "e09cb1fc-af97-44fa-b922-5a9a1a20f24b",
   "metadata": {},
   "outputs": [
    {
     "name": "stdout",
     "output_type": "stream",
     "text": [
      "\n",
      "1 \n",
      "2 2 \n",
      "3 3 3 \n",
      "4 4 4 4 \n",
      "5 5 5 5 5 \n"
     ]
    }
   ],
   "source": [
    "# 4 Write a Python program to print the given number patterns\n",
    "\n",
    "rows = 6 \n",
    "for i in range(rows):\n",
    "\n",
    "    for j in range(i):\n",
    "    \n",
    "        print(i, end=' ')\n",
    "    \n",
    "    print('')\n"
   ]
  },
  {
   "cell_type": "code",
   "execution_count": 6,
   "id": "d2e3604d-3663-476b-b7fd-5befedd81af0",
   "metadata": {},
   "outputs": [
    {
     "name": "stdin",
     "output_type": "stream",
     "text": [
      "Enter any number :  1234\n"
     ]
    },
    {
     "name": "stdout",
     "output_type": "stream",
     "text": [
      "\n",
      "Product of all digits in 1234 : 24\n"
     ]
    }
   ],
   "source": [
    "# 5 Write a Python program to calculate product of digits of a number Read value of n from user\n",
    "\n",
    "num = int(input(\"Enter any number : \"))\n",
    "\n",
    "temp = num\n",
    "product = 1\n",
    "\n",
    "while(temp != 0):\n",
    "\n",
    "    product = product * (temp % 10)\n",
    "\n",
    "    temp = int(temp / 10)\n",
    "\n",
    "print(\"\\nProduct of all digits in\", num, \":\", product)"
   ]
  },
  {
   "cell_type": "code",
   "execution_count": 37,
   "id": "53f59f5e-1771-4d3f-8b36-b68c15c9f7f3",
   "metadata": {},
   "outputs": [
    {
     "name": "stdout",
     "output_type": "stream",
     "text": [
      "False\n",
      "['World', 23.45, 'Hello', 12, 67, 45]\n",
      "[45, 67, 12, 23.45, 'World']\n",
      "[45, 67, 12, 23.45, 36, 'World']\n",
      "[45, 67, 12, 23.45, 36, 'World', [34, 'Pune']]\n"
     ]
    },
    {
     "data": {
      "text/plain": [
       "[34, 'Pune']"
      ]
     },
     "execution_count": 37,
     "metadata": {},
     "output_type": "execute_result"
    }
   ],
   "source": [
    "'''\n",
    "6. Create a list of elements like: x = [45, 67, 12, ‘Hello’, 23.45, ‘World’] and\n",
    "oerform following\n",
    "operations\n",
    "1. Extract only string values from this list.\n",
    "2. Create a new list with strings in upper case.\n",
    "3. Find the addition of integer values\n",
    "4. Check that the value 56 is present in it or not.\n",
    "5. Print the list in reverse order.\n",
    "6. Delete the string ‘Hello’ from it.\n",
    "7. Insert a new value of 36 at 5th position in list.\n",
    "8. Count total number of elements in list now.\n",
    "9. Extract the values from 2nd index to 5th index.\n",
    "10. Append [34, ‘Pune’] to this list.\n",
    "11. Delete the last element from list.\n",
    "'''\n",
    "\n",
    "a = 56 in x\n",
    "print(a)\n",
    "rev = x[::-1]\n",
    "print(rev)\n",
    "if 'Hello' in x :\n",
    "     x.remove('Hello')\n",
    "print(x)\n",
    "x. insert(4, 36)\n",
    "print(x)\n",
    "list= x[2:5]\n",
    "x.append([34,'Pune'])\n",
    "print(x)\n",
    "x.pop()"
   ]
  },
  {
   "cell_type": "code",
   "execution_count": 20,
   "id": "f43729ed-824a-4084-b5db-df527348d1a7",
   "metadata": {},
   "outputs": [
    {
     "name": "stdout",
     "output_type": "stream",
     "text": [
      "(32.45, 42.67, 26.0, 86.35, 69.07)\n",
      "(26.0, 32.45, 42.67, 69.07, 86.35)\n",
      "False\n"
     ]
    },
    {
     "data": {
      "text/plain": [
       "{26.0, 32.45, 42.67, 69.07, 86.35}"
      ]
     },
     "execution_count": 20,
     "metadata": {},
     "output_type": "execute_result"
    }
   ],
   "source": [
    "# 7 Create a tuple of elements with 5 float values in it and perform following operations.\n",
    "#1. Print the data in sorted manner.\n",
    "#2. Check to see that the element 50 is present in it.\n",
    "#3. Convert this tuple in se\n",
    "\n",
    "t = (32.45,42.67,26.00,86.35,69.07)\n",
    "\n",
    "print(t)\n",
    "\n",
    "a= list(t)\n",
    "\n",
    "a.sort()\n",
    "\n",
    "t= tuple(a)\n",
    "\n",
    "print(t)\n",
    "\n",
    "contains = 50 in a\n",
    "\n",
    "print(contains)\n",
    "\n",
    "a= set(t)\n",
    "\n",
    "a"
   ]
  },
  {
   "cell_type": "code",
   "execution_count": 18,
   "id": "11eb1713-1640-4f2f-a72f-72c4f47f5f50",
   "metadata": {},
   "outputs": [
    {
     "name": "stdout",
     "output_type": "stream",
     "text": [
      "{'a': 'apple', 'b': 'ball', 'c': 'cat', 'd': 'doll', 'k': 'king'}\n",
      "{'a': 'apple', 'b': 'ball', 'c': 'cat', 'd': 'doll', 'k': 'king', 'z': 'ZEbra'}\n",
      "{'a': 'apple', 'b': 'ball', 'c': 'cat', 'd': 'dog', 'k': 'king', 'z': 'ZEbra'}\n",
      "Length of dictionary : 6\n"
     ]
    }
   ],
   "source": [
    "# 8 Create a dictionary of elements: {‘a’: ‘apple’, ‘b’: ‘ball’, ‘c’: ‘cat’, ‘d’: ‘doll’, ‘k’:‘king’} and perform following operations.\n",
    "# 1. Access the data at key ‘k’.\n",
    "# 2. Add a new values ‘z’: ‘zebra’\n",
    "# 3. Replace the contents of ‘d’ as ‘dog’\n",
    "# 4. Print all the values from this dictionary.\n",
    "# 5. Find the length of this dictionary\n",
    "\n",
    "dic= {'a': 'apple', 'b': 'ball', 'c': 'cat', 'd': 'doll', 'k': 'king'}\n",
    "\n",
    "print(dic)\n",
    "\n",
    "dic['k']\n",
    "\n",
    "dic['z']= 'ZEbra'\n",
    "\n",
    "print(dic)\n",
    "\n",
    "dic['d']= 'dog'\n",
    "\n",
    "print(dic)\n",
    "\n",
    "print('Length of dictionary :', len(dic))\n",
    "\n"
   ]
  },
  {
   "cell_type": "code",
   "execution_count": 21,
   "id": "fa76423f-7c43-442e-bd2c-5ad9704054fe",
   "metadata": {},
   "outputs": [
    {
     "name": "stdout",
     "output_type": "stream",
     "text": [
      "Second highest number is :  45\n"
     ]
    }
   ],
   "source": [
    "# 9 Write a program to find the second largest element in a list.\n",
    "\n",
    "list1 = [10, 20, 4, 45, 99]\n",
    " \n",
    "mx = max(list1[0], list1[1]) \n",
    "secondmax = min(list1[0], list1[1]) \n",
    "n = len(list1)\n",
    "for i in range(2,n): \n",
    "    if list1[i] > mx: \n",
    "        secondmax = mx\n",
    "        mx = list1[i] \n",
    "    elif list1[i] > secondmax and \\\n",
    "        mx != list1[i]: \n",
    "        secondmax = list1[i]\n",
    "    elif mx == secondmax and \\\n",
    "        secondmax != list1[i]:\n",
    "          secondmax = list1[i]\n",
    " \n",
    "print(\"Second highest number is : \",\\\n",
    "      str(secondmax))"
   ]
  },
  {
   "cell_type": "code",
   "execution_count": 29,
   "id": "af98a9b1-bab6-4c27-b595-b7030d4bf5ab",
   "metadata": {},
   "outputs": [
    {
     "name": "stdout",
     "output_type": "stream",
     "text": [
      "['silver', 'gold', 'iron', 'aluminium ', 'copper', ' brass', 'bronze']\n",
      "['silver', 'gold', 'iron', 'aluminium ', ' brass', 'bronze']\n"
     ]
    }
   ],
   "source": [
    "# 10 This is a list of some metallic elements.\n",
    "#metals = [ 'silver','gold', ... ]\n",
    "#Make a new list that is almost identical to the metals list: the new contains the same items, in the same order, except that it does NOT contain the item 'copper'\n",
    "\n",
    "metals = [ 'silver', 'gold', 'iron', 'aluminium ','copper',' brass', 'bronze' ]\n",
    "print(metals)\n",
    "metals1 = [ n for n in metals if n != 'copper' ]\n",
    "print(metals1)"
   ]
  },
  {
   "cell_type": "markdown",
   "id": "d1a7baf7-7452-49f6-a9e1-00257efbadb4",
   "metadata": {},
   "source": []
  },
  {
   "cell_type": "code",
   "execution_count": null,
   "id": "09a265ab-e13c-490d-bb97-ea56a2780da3",
   "metadata": {},
   "outputs": [],
   "source": []
  }
 ],
 "metadata": {
  "kernelspec": {
   "display_name": "Python 3 (ipykernel)",
   "language": "python",
   "name": "python3"
  },
  "language_info": {
   "codemirror_mode": {
    "name": "ipython",
    "version": 3
   },
   "file_extension": ".py",
   "mimetype": "text/x-python",
   "name": "python",
   "nbconvert_exporter": "python",
   "pygments_lexer": "ipython3",
   "version": "3.11.7"
  }
 },
 "nbformat": 4,
 "nbformat_minor": 5
}
